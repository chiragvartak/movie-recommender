{
 "cells": [
  {
   "cell_type": "markdown",
   "metadata": {},
   "source": [
    "<h1>Hybrid Movie Recommender System for Mobile Devices</h1>"
   ]
  },
  {
   "cell_type": "markdown",
   "metadata": {
    "colab_type": "text",
    "id": "-cwicdRM9gL6"
   },
   "source": [
    "<h2>Module 1: Data Pre-Processing</h2>"
   ]
  },
  {
   "cell_type": "code",
   "execution_count": 1,
   "metadata": {
    "colab": {},
    "colab_type": "code",
    "id": "whFa3KjbzfXt"
   },
   "outputs": [],
   "source": [
    "import numpy as np\n",
    "import pandas as pd\n",
    "import matplotlib.pyplot as plt \n",
    "import sys\n",
    "import pickle\n",
    "from matplotlib import pyplot\n",
    "from sklearn.feature_extraction.text import TfidfVectorizer\n",
    "from sklearn.metrics.pairwise import cosine_similarity\n",
    "from sklearn.decomposition import TruncatedSVD\n",
    "#!pip install surprise\n",
    "from surprise import Dataset, Reader, SVD, accuracy\n",
    "from surprise.model_selection import train_test_split\n",
    "from surprise.model_selection import KFold\n",
    "from collections import defaultdict\n"
   ]
  },
  {
   "cell_type": "code",
   "execution_count": null,
   "metadata": {},
   "outputs": [],
   "source": []
  },
  {
   "cell_type": "code",
   "execution_count": 2,
   "metadata": {
    "colab": {
     "base_uri": "https://localhost:8080/",
     "height": 121
    },
    "colab_type": "code",
    "id": "sKIhKDlzHCqk",
    "outputId": "a382ee01-85c6-4f0f-dc4b-7bfef00396c0"
   },
   "outputs": [],
   "source": [
    "#from google.colab import drive\n",
    "#drive.mount('/content/drive')"
   ]
  },
  {
   "cell_type": "code",
   "execution_count": 4,
   "metadata": {
    "colab": {},
    "colab_type": "code",
    "id": "xYUUnwjuILHS"
   },
   "outputs": [],
   "source": [
    "moviesdata= pd.read_csv('movies.csv')\n",
    "tagsdata= pd.read_csv('tags.csv')\n",
    "ratingsdata= pd.read_csv('ratings.csv')"
   ]
  },
  {
   "cell_type": "code",
   "execution_count": 5,
   "metadata": {
    "colab": {
     "base_uri": "https://localhost:8080/",
     "height": 402
    },
    "colab_type": "code",
    "id": "5i0geyydNH9d",
    "outputId": "b5fb3254-45dc-4f36-b39d-6e42d441d4b4"
   },
   "outputs": [
    {
     "data": {
      "text/html": [
       "<div>\n",
       "<style scoped>\n",
       "    .dataframe tbody tr th:only-of-type {\n",
       "        vertical-align: middle;\n",
       "    }\n",
       "\n",
       "    .dataframe tbody tr th {\n",
       "        vertical-align: top;\n",
       "    }\n",
       "\n",
       "    .dataframe thead th {\n",
       "        text-align: right;\n",
       "    }\n",
       "</style>\n",
       "<table border=\"1\" class=\"dataframe\">\n",
       "  <thead>\n",
       "    <tr style=\"text-align: right;\">\n",
       "      <th></th>\n",
       "      <th>movieId</th>\n",
       "      <th>title</th>\n",
       "      <th>genres</th>\n",
       "    </tr>\n",
       "  </thead>\n",
       "  <tbody>\n",
       "    <tr>\n",
       "      <th>0</th>\n",
       "      <td>1</td>\n",
       "      <td>Toy Story (1995)</td>\n",
       "      <td>Adventure|Animation|Children|Comedy|Fantasy</td>\n",
       "    </tr>\n",
       "    <tr>\n",
       "      <th>1</th>\n",
       "      <td>2</td>\n",
       "      <td>Jumanji (1995)</td>\n",
       "      <td>Adventure|Children|Fantasy</td>\n",
       "    </tr>\n",
       "    <tr>\n",
       "      <th>2</th>\n",
       "      <td>3</td>\n",
       "      <td>Grumpier Old Men (1995)</td>\n",
       "      <td>Comedy|Romance</td>\n",
       "    </tr>\n",
       "    <tr>\n",
       "      <th>3</th>\n",
       "      <td>4</td>\n",
       "      <td>Waiting to Exhale (1995)</td>\n",
       "      <td>Comedy|Drama|Romance</td>\n",
       "    </tr>\n",
       "    <tr>\n",
       "      <th>4</th>\n",
       "      <td>5</td>\n",
       "      <td>Father of the Bride Part II (1995)</td>\n",
       "      <td>Comedy</td>\n",
       "    </tr>\n",
       "    <tr>\n",
       "      <th>...</th>\n",
       "      <td>...</td>\n",
       "      <td>...</td>\n",
       "      <td>...</td>\n",
       "    </tr>\n",
       "    <tr>\n",
       "      <th>62418</th>\n",
       "      <td>209157</td>\n",
       "      <td>We (2018)</td>\n",
       "      <td>Drama</td>\n",
       "    </tr>\n",
       "    <tr>\n",
       "      <th>62419</th>\n",
       "      <td>209159</td>\n",
       "      <td>Window of the Soul (2001)</td>\n",
       "      <td>Documentary</td>\n",
       "    </tr>\n",
       "    <tr>\n",
       "      <th>62420</th>\n",
       "      <td>209163</td>\n",
       "      <td>Bad Poems (2018)</td>\n",
       "      <td>Comedy|Drama</td>\n",
       "    </tr>\n",
       "    <tr>\n",
       "      <th>62421</th>\n",
       "      <td>209169</td>\n",
       "      <td>A Girl Thing (2001)</td>\n",
       "      <td>(no genres listed)</td>\n",
       "    </tr>\n",
       "    <tr>\n",
       "      <th>62422</th>\n",
       "      <td>209171</td>\n",
       "      <td>Women of Devil's Island (1962)</td>\n",
       "      <td>Action|Adventure|Drama</td>\n",
       "    </tr>\n",
       "  </tbody>\n",
       "</table>\n",
       "<p>62423 rows × 3 columns</p>\n",
       "</div>"
      ],
      "text/plain": [
       "       movieId                               title  \\\n",
       "0            1                    Toy Story (1995)   \n",
       "1            2                      Jumanji (1995)   \n",
       "2            3             Grumpier Old Men (1995)   \n",
       "3            4            Waiting to Exhale (1995)   \n",
       "4            5  Father of the Bride Part II (1995)   \n",
       "...        ...                                 ...   \n",
       "62418   209157                           We (2018)   \n",
       "62419   209159           Window of the Soul (2001)   \n",
       "62420   209163                    Bad Poems (2018)   \n",
       "62421   209169                 A Girl Thing (2001)   \n",
       "62422   209171      Women of Devil's Island (1962)   \n",
       "\n",
       "                                            genres  \n",
       "0      Adventure|Animation|Children|Comedy|Fantasy  \n",
       "1                       Adventure|Children|Fantasy  \n",
       "2                                   Comedy|Romance  \n",
       "3                             Comedy|Drama|Romance  \n",
       "4                                           Comedy  \n",
       "...                                            ...  \n",
       "62418                                        Drama  \n",
       "62419                                  Documentary  \n",
       "62420                                 Comedy|Drama  \n",
       "62421                           (no genres listed)  \n",
       "62422                       Action|Adventure|Drama  \n",
       "\n",
       "[62423 rows x 3 columns]"
      ]
     },
     "execution_count": 5,
     "metadata": {},
     "output_type": "execute_result"
    }
   ],
   "source": [
    "\n",
    "ratingsdata=ratingsdata.sample(n=5000000)\n",
    "moviesdata"
   ]
  },
  {
   "cell_type": "code",
   "execution_count": 6,
   "metadata": {
    "colab": {},
    "colab_type": "code",
    "id": "sLiHfE5UILDJ"
   },
   "outputs": [],
   "source": [
    "moviesdata['genres']=moviesdata['genres'].str.replace('|',' ')"
   ]
  },
  {
   "cell_type": "code",
   "execution_count": 7,
   "metadata": {
    "colab": {
     "base_uri": "https://localhost:8080/",
     "height": 34
    },
    "colab_type": "code",
    "id": "fydM9XhrILAi",
    "outputId": "25357e55-c47e-45ea-9e7f-ca9818faaace"
   },
   "outputs": [
    {
     "data": {
      "text/plain": [
       "62423"
      ]
     },
     "execution_count": 7,
     "metadata": {},
     "output_type": "execute_result"
    }
   ],
   "source": [
    "len(moviesdata.movieId.unique())"
   ]
  },
  {
   "cell_type": "code",
   "execution_count": 8,
   "metadata": {
    "colab": {},
    "colab_type": "code",
    "id": "8_MGkvp2IK-v"
   },
   "outputs": [
    {
     "data": {
      "text/html": [
       "<div>\n",
       "<style scoped>\n",
       "    .dataframe tbody tr th:only-of-type {\n",
       "        vertical-align: middle;\n",
       "    }\n",
       "\n",
       "    .dataframe tbody tr th {\n",
       "        vertical-align: top;\n",
       "    }\n",
       "\n",
       "    .dataframe thead th {\n",
       "        text-align: right;\n",
       "    }\n",
       "</style>\n",
       "<table border=\"1\" class=\"dataframe\">\n",
       "  <thead>\n",
       "    <tr style=\"text-align: right;\">\n",
       "      <th></th>\n",
       "      <th>userId</th>\n",
       "      <th>movieId</th>\n",
       "      <th>rating</th>\n",
       "      <th>timestamp</th>\n",
       "    </tr>\n",
       "  </thead>\n",
       "  <tbody>\n",
       "    <tr>\n",
       "      <th>6915171</th>\n",
       "      <td>44875</td>\n",
       "      <td>2174</td>\n",
       "      <td>5.0</td>\n",
       "      <td>1496170918</td>\n",
       "    </tr>\n",
       "    <tr>\n",
       "      <th>16907955</th>\n",
       "      <td>109645</td>\n",
       "      <td>4963</td>\n",
       "      <td>3.5</td>\n",
       "      <td>1458433210</td>\n",
       "    </tr>\n",
       "    <tr>\n",
       "      <th>11834568</th>\n",
       "      <td>76710</td>\n",
       "      <td>50872</td>\n",
       "      <td>4.5</td>\n",
       "      <td>1198447278</td>\n",
       "    </tr>\n",
       "    <tr>\n",
       "      <th>5244129</th>\n",
       "      <td>34070</td>\n",
       "      <td>6333</td>\n",
       "      <td>3.5</td>\n",
       "      <td>1075231184</td>\n",
       "    </tr>\n",
       "    <tr>\n",
       "      <th>10025015</th>\n",
       "      <td>65050</td>\n",
       "      <td>1580</td>\n",
       "      <td>1.0</td>\n",
       "      <td>1103100220</td>\n",
       "    </tr>\n",
       "    <tr>\n",
       "      <th>...</th>\n",
       "      <td>...</td>\n",
       "      <td>...</td>\n",
       "      <td>...</td>\n",
       "      <td>...</td>\n",
       "    </tr>\n",
       "    <tr>\n",
       "      <th>19439995</th>\n",
       "      <td>126191</td>\n",
       "      <td>3972</td>\n",
       "      <td>4.0</td>\n",
       "      <td>1086493421</td>\n",
       "    </tr>\n",
       "    <tr>\n",
       "      <th>18609587</th>\n",
       "      <td>120598</td>\n",
       "      <td>1247</td>\n",
       "      <td>4.5</td>\n",
       "      <td>1069812232</td>\n",
       "    </tr>\n",
       "    <tr>\n",
       "      <th>10607814</th>\n",
       "      <td>68849</td>\n",
       "      <td>6186</td>\n",
       "      <td>3.5</td>\n",
       "      <td>1111724231</td>\n",
       "    </tr>\n",
       "    <tr>\n",
       "      <th>14485017</th>\n",
       "      <td>93805</td>\n",
       "      <td>2959</td>\n",
       "      <td>5.0</td>\n",
       "      <td>1449797822</td>\n",
       "    </tr>\n",
       "    <tr>\n",
       "      <th>17264948</th>\n",
       "      <td>111867</td>\n",
       "      <td>858</td>\n",
       "      <td>4.0</td>\n",
       "      <td>1336515812</td>\n",
       "    </tr>\n",
       "  </tbody>\n",
       "</table>\n",
       "<p>5000000 rows × 4 columns</p>\n",
       "</div>"
      ],
      "text/plain": [
       "          userId  movieId  rating   timestamp\n",
       "6915171    44875     2174     5.0  1496170918\n",
       "16907955  109645     4963     3.5  1458433210\n",
       "11834568   76710    50872     4.5  1198447278\n",
       "5244129    34070     6333     3.5  1075231184\n",
       "10025015   65050     1580     1.0  1103100220\n",
       "...          ...      ...     ...         ...\n",
       "19439995  126191     3972     4.0  1086493421\n",
       "18609587  120598     1247     4.5  1069812232\n",
       "10607814   68849     6186     3.5  1111724231\n",
       "14485017   93805     2959     5.0  1449797822\n",
       "17264948  111867      858     4.0  1336515812\n",
       "\n",
       "[5000000 rows x 4 columns]"
      ]
     },
     "execution_count": 8,
     "metadata": {},
     "output_type": "execute_result"
    }
   ],
   "source": [
    "ratingsdata"
   ]
  },
  {
   "cell_type": "code",
   "execution_count": 9,
   "metadata": {
    "colab": {},
    "colab_type": "code",
    "id": "ycWlhAcxIK7u"
   },
   "outputs": [],
   "source": [
    "#The rating data can be shrinked to consider only the users that have rated more than 30 movies.\n",
    "filtered_ratings=ratingsdata.groupby('userId').filter(lambda x:len(x)>= 30)\n",
    "#This allows the data to retain most of the movies while reducing the amount of users.\n",
    "mlr = filtered_ratings.movieId.unique().tolist()\n",
    "titlesremaining = len(filtered_ratings.movieId.unique())/len(moviesdata.movieId.unique()) * 100\n"
   ]
  },
  {
   "cell_type": "code",
   "execution_count": null,
   "metadata": {
    "colab": {},
    "colab_type": "code",
    "id": "xOdGNMQXIK5Y"
   },
   "outputs": [],
   "source": []
  },
  {
   "cell_type": "code",
   "execution_count": 10,
   "metadata": {
    "colab": {},
    "colab_type": "code",
    "id": "NEuwVR5GIaDr"
   },
   "outputs": [],
   "source": [
    "# we take only the unique movie titles that are also present in the new filtered data.\n",
    "moviesdata=moviesdata[moviesdata.movieId.isin(mlr)]"
   ]
  },
  {
   "cell_type": "code",
   "execution_count": 11,
   "metadata": {
    "colab": {
     "base_uri": "https://localhost:8080/",
     "height": 343
    },
    "colab_type": "code",
    "id": "fDetgaVRIaAN",
    "outputId": "a0eda025-8c3c-4cde-fb97-0883ed2689a7"
   },
   "outputs": [
    {
     "data": {
      "text/html": [
       "<div>\n",
       "<style scoped>\n",
       "    .dataframe tbody tr th:only-of-type {\n",
       "        vertical-align: middle;\n",
       "    }\n",
       "\n",
       "    .dataframe tbody tr th {\n",
       "        vertical-align: top;\n",
       "    }\n",
       "\n",
       "    .dataframe thead th {\n",
       "        text-align: right;\n",
       "    }\n",
       "</style>\n",
       "<table border=\"1\" class=\"dataframe\">\n",
       "  <thead>\n",
       "    <tr style=\"text-align: right;\">\n",
       "      <th></th>\n",
       "      <th>movieId</th>\n",
       "      <th>title</th>\n",
       "      <th>genres</th>\n",
       "    </tr>\n",
       "  </thead>\n",
       "  <tbody>\n",
       "    <tr>\n",
       "      <th>0</th>\n",
       "      <td>1</td>\n",
       "      <td>Toy Story (1995)</td>\n",
       "      <td>Adventure Animation Children Comedy Fantasy</td>\n",
       "    </tr>\n",
       "    <tr>\n",
       "      <th>1</th>\n",
       "      <td>2</td>\n",
       "      <td>Jumanji (1995)</td>\n",
       "      <td>Adventure Children Fantasy</td>\n",
       "    </tr>\n",
       "    <tr>\n",
       "      <th>2</th>\n",
       "      <td>3</td>\n",
       "      <td>Grumpier Old Men (1995)</td>\n",
       "      <td>Comedy Romance</td>\n",
       "    </tr>\n",
       "    <tr>\n",
       "      <th>3</th>\n",
       "      <td>4</td>\n",
       "      <td>Waiting to Exhale (1995)</td>\n",
       "      <td>Comedy Drama Romance</td>\n",
       "    </tr>\n",
       "    <tr>\n",
       "      <th>4</th>\n",
       "      <td>5</td>\n",
       "      <td>Father of the Bride Part II (1995)</td>\n",
       "      <td>Comedy</td>\n",
       "    </tr>\n",
       "    <tr>\n",
       "      <th>5</th>\n",
       "      <td>6</td>\n",
       "      <td>Heat (1995)</td>\n",
       "      <td>Action Crime Thriller</td>\n",
       "    </tr>\n",
       "    <tr>\n",
       "      <th>6</th>\n",
       "      <td>7</td>\n",
       "      <td>Sabrina (1995)</td>\n",
       "      <td>Comedy Romance</td>\n",
       "    </tr>\n",
       "    <tr>\n",
       "      <th>7</th>\n",
       "      <td>8</td>\n",
       "      <td>Tom and Huck (1995)</td>\n",
       "      <td>Adventure Children</td>\n",
       "    </tr>\n",
       "    <tr>\n",
       "      <th>8</th>\n",
       "      <td>9</td>\n",
       "      <td>Sudden Death (1995)</td>\n",
       "      <td>Action</td>\n",
       "    </tr>\n",
       "    <tr>\n",
       "      <th>9</th>\n",
       "      <td>10</td>\n",
       "      <td>GoldenEye (1995)</td>\n",
       "      <td>Action Adventure Thriller</td>\n",
       "    </tr>\n",
       "  </tbody>\n",
       "</table>\n",
       "</div>"
      ],
      "text/plain": [
       "   movieId                               title  \\\n",
       "0        1                    Toy Story (1995)   \n",
       "1        2                      Jumanji (1995)   \n",
       "2        3             Grumpier Old Men (1995)   \n",
       "3        4            Waiting to Exhale (1995)   \n",
       "4        5  Father of the Bride Part II (1995)   \n",
       "5        6                         Heat (1995)   \n",
       "6        7                      Sabrina (1995)   \n",
       "7        8                 Tom and Huck (1995)   \n",
       "8        9                 Sudden Death (1995)   \n",
       "9       10                    GoldenEye (1995)   \n",
       "\n",
       "                                        genres  \n",
       "0  Adventure Animation Children Comedy Fantasy  \n",
       "1                   Adventure Children Fantasy  \n",
       "2                               Comedy Romance  \n",
       "3                         Comedy Drama Romance  \n",
       "4                                       Comedy  \n",
       "5                        Action Crime Thriller  \n",
       "6                               Comedy Romance  \n",
       "7                           Adventure Children  \n",
       "8                                       Action  \n",
       "9                    Action Adventure Thriller  "
      ]
     },
     "execution_count": 11,
     "metadata": {},
     "output_type": "execute_result"
    }
   ],
   "source": [
    "moviesdata.head(10)\n",
    "# so now we have the genres without the | seperators"
   ]
  },
  {
   "cell_type": "code",
   "execution_count": 12,
   "metadata": {
    "colab": {},
    "colab_type": "code",
    "id": "aNzVoFujIZ-G"
   },
   "outputs": [],
   "source": [
    "Mapit = dict(zip(moviesdata.title.tolist(),moviesdata.movieId.tolist()))\n",
    "#create a dictionary for movie titles and id for fast lookup"
   ]
  },
  {
   "cell_type": "code",
   "execution_count": 13,
   "metadata": {
    "colab": {},
    "colab_type": "code",
    "id": "xBSIqSCSIZ7-"
   },
   "outputs": [],
   "source": [
    "#getting rid of timestamp column as it is not needed\n",
    "tagsdata.head\n",
    "tagsdata.drop(['timestamp'],1,inplace=True)\n",
    "filtered_ratings.drop(['timestamp'],1, inplace=True)"
   ]
  },
  {
   "cell_type": "code",
   "execution_count": 14,
   "metadata": {
    "colab": {
     "base_uri": "https://localhost:8080/",
     "height": 343
    },
    "colab_type": "code",
    "id": "GH1PprU7IZ5-",
    "outputId": "3a0a830b-7b4d-4cf3-993b-38e44f498bfc"
   },
   "outputs": [
    {
     "data": {
      "text/html": [
       "<div>\n",
       "<style scoped>\n",
       "    .dataframe tbody tr th:only-of-type {\n",
       "        vertical-align: middle;\n",
       "    }\n",
       "\n",
       "    .dataframe tbody tr th {\n",
       "        vertical-align: top;\n",
       "    }\n",
       "\n",
       "    .dataframe thead th {\n",
       "        text-align: right;\n",
       "    }\n",
       "</style>\n",
       "<table border=\"1\" class=\"dataframe\">\n",
       "  <thead>\n",
       "    <tr style=\"text-align: right;\">\n",
       "      <th></th>\n",
       "      <th>movieId</th>\n",
       "      <th>title</th>\n",
       "      <th>genres</th>\n",
       "      <th>userId</th>\n",
       "      <th>tag</th>\n",
       "    </tr>\n",
       "  </thead>\n",
       "  <tbody>\n",
       "    <tr>\n",
       "      <th>0</th>\n",
       "      <td>1</td>\n",
       "      <td>Toy Story (1995)</td>\n",
       "      <td>Adventure Animation Children Comedy Fantasy</td>\n",
       "      <td>791.0</td>\n",
       "      <td>Owned</td>\n",
       "    </tr>\n",
       "    <tr>\n",
       "      <th>1</th>\n",
       "      <td>1</td>\n",
       "      <td>Toy Story (1995)</td>\n",
       "      <td>Adventure Animation Children Comedy Fantasy</td>\n",
       "      <td>1048.0</td>\n",
       "      <td>imdb top 250</td>\n",
       "    </tr>\n",
       "    <tr>\n",
       "      <th>2</th>\n",
       "      <td>1</td>\n",
       "      <td>Toy Story (1995)</td>\n",
       "      <td>Adventure Animation Children Comedy Fantasy</td>\n",
       "      <td>1361.0</td>\n",
       "      <td>Pixar</td>\n",
       "    </tr>\n",
       "    <tr>\n",
       "      <th>3</th>\n",
       "      <td>1</td>\n",
       "      <td>Toy Story (1995)</td>\n",
       "      <td>Adventure Animation Children Comedy Fantasy</td>\n",
       "      <td>3164.0</td>\n",
       "      <td>Pixar</td>\n",
       "    </tr>\n",
       "    <tr>\n",
       "      <th>4</th>\n",
       "      <td>1</td>\n",
       "      <td>Toy Story (1995)</td>\n",
       "      <td>Adventure Animation Children Comedy Fantasy</td>\n",
       "      <td>3164.0</td>\n",
       "      <td>time travel</td>\n",
       "    </tr>\n",
       "    <tr>\n",
       "      <th>5</th>\n",
       "      <td>1</td>\n",
       "      <td>Toy Story (1995)</td>\n",
       "      <td>Adventure Animation Children Comedy Fantasy</td>\n",
       "      <td>3448.0</td>\n",
       "      <td>children</td>\n",
       "    </tr>\n",
       "    <tr>\n",
       "      <th>6</th>\n",
       "      <td>1</td>\n",
       "      <td>Toy Story (1995)</td>\n",
       "      <td>Adventure Animation Children Comedy Fantasy</td>\n",
       "      <td>3448.0</td>\n",
       "      <td>comedy</td>\n",
       "    </tr>\n",
       "    <tr>\n",
       "      <th>7</th>\n",
       "      <td>1</td>\n",
       "      <td>Toy Story (1995)</td>\n",
       "      <td>Adventure Animation Children Comedy Fantasy</td>\n",
       "      <td>3448.0</td>\n",
       "      <td>funny</td>\n",
       "    </tr>\n",
       "    <tr>\n",
       "      <th>8</th>\n",
       "      <td>1</td>\n",
       "      <td>Toy Story (1995)</td>\n",
       "      <td>Adventure Animation Children Comedy Fantasy</td>\n",
       "      <td>3448.0</td>\n",
       "      <td>witty</td>\n",
       "    </tr>\n",
       "    <tr>\n",
       "      <th>9</th>\n",
       "      <td>1</td>\n",
       "      <td>Toy Story (1995)</td>\n",
       "      <td>Adventure Animation Children Comedy Fantasy</td>\n",
       "      <td>4676.0</td>\n",
       "      <td>rated-G</td>\n",
       "    </tr>\n",
       "  </tbody>\n",
       "</table>\n",
       "</div>"
      ],
      "text/plain": [
       "   movieId             title                                       genres  \\\n",
       "0        1  Toy Story (1995)  Adventure Animation Children Comedy Fantasy   \n",
       "1        1  Toy Story (1995)  Adventure Animation Children Comedy Fantasy   \n",
       "2        1  Toy Story (1995)  Adventure Animation Children Comedy Fantasy   \n",
       "3        1  Toy Story (1995)  Adventure Animation Children Comedy Fantasy   \n",
       "4        1  Toy Story (1995)  Adventure Animation Children Comedy Fantasy   \n",
       "5        1  Toy Story (1995)  Adventure Animation Children Comedy Fantasy   \n",
       "6        1  Toy Story (1995)  Adventure Animation Children Comedy Fantasy   \n",
       "7        1  Toy Story (1995)  Adventure Animation Children Comedy Fantasy   \n",
       "8        1  Toy Story (1995)  Adventure Animation Children Comedy Fantasy   \n",
       "9        1  Toy Story (1995)  Adventure Animation Children Comedy Fantasy   \n",
       "\n",
       "   userId           tag  \n",
       "0   791.0         Owned  \n",
       "1  1048.0  imdb top 250  \n",
       "2  1361.0         Pixar  \n",
       "3  3164.0         Pixar  \n",
       "4  3164.0   time travel  \n",
       "5  3448.0      children  \n",
       "6  3448.0        comedy  \n",
       "7  3448.0         funny  \n",
       "8  3448.0         witty  \n",
       "9  4676.0       rated-G  "
      ]
     },
     "execution_count": 14,
     "metadata": {},
     "output_type": "execute_result"
    }
   ],
   "source": [
    "#merging the dataframes to get consolidated dataset\n",
    "mxmat=pd.merge(moviesdata,tagsdata,on='movieId',how='left')\n",
    "mxmat.head(10)"
   ]
  },
  {
   "cell_type": "code",
   "execution_count": 15,
   "metadata": {
    "colab": {
     "base_uri": "https://localhost:8080/",
     "height": 343
    },
    "colab_type": "code",
    "id": "i4BX9-qAIZ3I",
    "outputId": "f94dc4e5-b585-4ddf-a539-49afb964bbed"
   },
   "outputs": [
    {
     "data": {
      "text/html": [
       "<div>\n",
       "<style scoped>\n",
       "    .dataframe tbody tr th:only-of-type {\n",
       "        vertical-align: middle;\n",
       "    }\n",
       "\n",
       "    .dataframe tbody tr th {\n",
       "        vertical-align: top;\n",
       "    }\n",
       "\n",
       "    .dataframe thead th {\n",
       "        text-align: right;\n",
       "    }\n",
       "</style>\n",
       "<table border=\"1\" class=\"dataframe\">\n",
       "  <thead>\n",
       "    <tr style=\"text-align: right;\">\n",
       "      <th></th>\n",
       "      <th>movieId</th>\n",
       "      <th>title</th>\n",
       "      <th>metdat</th>\n",
       "    </tr>\n",
       "  </thead>\n",
       "  <tbody>\n",
       "    <tr>\n",
       "      <th>0</th>\n",
       "      <td>1</td>\n",
       "      <td>Toy Story (1995)</td>\n",
       "      <td>Owned imdb top 250 Pixar Pixar time travel chi...</td>\n",
       "    </tr>\n",
       "    <tr>\n",
       "      <th>1</th>\n",
       "      <td>2</td>\n",
       "      <td>Jumanji (1995)</td>\n",
       "      <td>Robin Williams time travel fantasy based on ch...</td>\n",
       "    </tr>\n",
       "    <tr>\n",
       "      <th>2</th>\n",
       "      <td>3</td>\n",
       "      <td>Grumpier Old Men (1995)</td>\n",
       "      <td>funny best friend duringcreditsstinger fishing...</td>\n",
       "    </tr>\n",
       "    <tr>\n",
       "      <th>3</th>\n",
       "      <td>4</td>\n",
       "      <td>Waiting to Exhale (1995)</td>\n",
       "      <td>based on novel or book chick flick divorce int...</td>\n",
       "    </tr>\n",
       "    <tr>\n",
       "      <th>4</th>\n",
       "      <td>5</td>\n",
       "      <td>Father of the Bride Part II (1995)</td>\n",
       "      <td>aging baby confidence contraception daughter g...</td>\n",
       "    </tr>\n",
       "    <tr>\n",
       "      <th>5</th>\n",
       "      <td>6</td>\n",
       "      <td>Heat (1995)</td>\n",
       "      <td>imdb top 250 great acting realistic action sus...</td>\n",
       "    </tr>\n",
       "    <tr>\n",
       "      <th>6</th>\n",
       "      <td>7</td>\n",
       "      <td>Sabrina (1995)</td>\n",
       "      <td>remake chauffeur fusion long island millionair...</td>\n",
       "    </tr>\n",
       "    <tr>\n",
       "      <th>7</th>\n",
       "      <td>8</td>\n",
       "      <td>Tom and Huck (1995)</td>\n",
       "      <td>based on a book Mark Twain Peter Hewitt adapte...</td>\n",
       "    </tr>\n",
       "    <tr>\n",
       "      <th>8</th>\n",
       "      <td>9</td>\n",
       "      <td>Sudden Death (1995)</td>\n",
       "      <td>explosive hostage terrorist vice president Jea...</td>\n",
       "    </tr>\n",
       "    <tr>\n",
       "      <th>9</th>\n",
       "      <td>10</td>\n",
       "      <td>GoldenEye (1995)</td>\n",
       "      <td>007 Bond boys with toys gadgets secret service...</td>\n",
       "    </tr>\n",
       "  </tbody>\n",
       "</table>\n",
       "</div>"
      ],
      "text/plain": [
       "   movieId                               title  \\\n",
       "0        1                    Toy Story (1995)   \n",
       "1        2                      Jumanji (1995)   \n",
       "2        3             Grumpier Old Men (1995)   \n",
       "3        4            Waiting to Exhale (1995)   \n",
       "4        5  Father of the Bride Part II (1995)   \n",
       "5        6                         Heat (1995)   \n",
       "6        7                      Sabrina (1995)   \n",
       "7        8                 Tom and Huck (1995)   \n",
       "8        9                 Sudden Death (1995)   \n",
       "9       10                    GoldenEye (1995)   \n",
       "\n",
       "                                              metdat  \n",
       "0  Owned imdb top 250 Pixar Pixar time travel chi...  \n",
       "1  Robin Williams time travel fantasy based on ch...  \n",
       "2  funny best friend duringcreditsstinger fishing...  \n",
       "3  based on novel or book chick flick divorce int...  \n",
       "4  aging baby confidence contraception daughter g...  \n",
       "5  imdb top 250 great acting realistic action sus...  \n",
       "6  remake chauffeur fusion long island millionair...  \n",
       "7  based on a book Mark Twain Peter Hewitt adapte...  \n",
       "8  explosive hostage terrorist vice president Jea...  \n",
       "9  007 Bond boys with toys gadgets secret service...  "
      ]
     },
     "execution_count": 15,
     "metadata": {},
     "output_type": "execute_result"
    }
   ],
   "source": [
    "mxmat.fillna(\"\",inplace=True)\n",
    "mxmat = pd.DataFrame(mxmat.groupby('movieId')['tag'].apply(lambda x: \"%s\" % ' '.join(x)))\n",
    "finmat = pd.merge(moviesdata, mxmat, on='movieId', how='left')\n",
    "finmat ['metdat'] = finmat[['tag', 'genres']].apply(lambda x: ' '.join(x), axis=1)\n",
    "finmat[['movieId','title','metdat']].head(10)\n",
    "# combining tags and genres to generte data for content based recommendation later"
   ]
  },
  {
   "cell_type": "code",
   "execution_count": 16,
   "metadata": {
    "colab": {
     "base_uri": "https://localhost:8080/",
     "height": 50
    },
    "colab_type": "code",
    "id": "qA5NdESZIksa",
    "outputId": "edc5f09b-4b76-4274-b392-0acfba00aec2"
   },
   "outputs": [
    {
     "name": "stdout",
     "output_type": "stream",
     "text": [
      "Percentage of titles remaining in dataset out of original:\n",
      "62.58910978325297\n"
     ]
    }
   ],
   "source": [
    "print('Percentage of titles remaining in dataset out of original:')\n",
    "print(titlesremaining)\n",
    "termfrinvfr=TfidfVectorizer(stop_words='english')\n",
    "termfrinvfr_matrix=termfrinvfr.fit_transform(finmat['metdat'])\n",
    "termfrinvfr_df = pd.DataFrame(termfrinvfr_matrix.toarray(), index=finmat.index.tolist())\n",
    "# using stopwords from sklearn library to generate tf-idf matrix\n",
    "#print(termfrinvfr_df.shape)"
   ]
  },
  {
   "cell_type": "code",
   "execution_count": 17,
   "metadata": {
    "colab": {
     "base_uri": "https://localhost:8080/",
     "height": 34
    },
    "colab_type": "code",
    "id": "YqO4qkhsIkom",
    "outputId": "d3560c37-b790-4f96-ae33-a1cd0e688bb3"
   },
   "outputs": [
    {
     "data": {
      "text/plain": [
       "(39070, 200)"
      ]
     },
     "execution_count": 17,
     "metadata": {},
     "output_type": "execute_result"
    }
   ],
   "source": [
    "singularVD = TruncatedSVD(n_components=200)\n",
    "intermatgen = singularVD.fit_transform(termfrinvfr_matrix)\n",
    "n = 200 \n",
    "intermatgen_1_df = pd.DataFrame(intermatgen[:,0:n], index=finmat.title.tolist())\n",
    "intermatgen.shape"
   ]
  },
  {
   "cell_type": "code",
   "execution_count": 18,
   "metadata": {
    "colab": {
     "base_uri": "https://localhost:8080/",
     "height": 343
    },
    "colab_type": "code",
    "id": "hLpVOU5LIkeV",
    "outputId": "2f4b21a4-3cbe-472d-e51a-c51cf18be6cb"
   },
   "outputs": [
    {
     "data": {
      "text/html": [
       "<div>\n",
       "<style scoped>\n",
       "    .dataframe tbody tr th:only-of-type {\n",
       "        vertical-align: middle;\n",
       "    }\n",
       "\n",
       "    .dataframe tbody tr th {\n",
       "        vertical-align: top;\n",
       "    }\n",
       "\n",
       "    .dataframe thead th {\n",
       "        text-align: right;\n",
       "    }\n",
       "</style>\n",
       "<table border=\"1\" class=\"dataframe\">\n",
       "  <thead>\n",
       "    <tr style=\"text-align: right;\">\n",
       "      <th></th>\n",
       "      <th>userId</th>\n",
       "      <th>movieId</th>\n",
       "      <th>rating</th>\n",
       "    </tr>\n",
       "  </thead>\n",
       "  <tbody>\n",
       "    <tr>\n",
       "      <th>6915171</th>\n",
       "      <td>44875</td>\n",
       "      <td>2174</td>\n",
       "      <td>5.0</td>\n",
       "    </tr>\n",
       "    <tr>\n",
       "      <th>11834568</th>\n",
       "      <td>76710</td>\n",
       "      <td>50872</td>\n",
       "      <td>4.5</td>\n",
       "    </tr>\n",
       "    <tr>\n",
       "      <th>9037525</th>\n",
       "      <td>58885</td>\n",
       "      <td>7153</td>\n",
       "      <td>5.0</td>\n",
       "    </tr>\n",
       "    <tr>\n",
       "      <th>2260856</th>\n",
       "      <td>15059</td>\n",
       "      <td>175303</td>\n",
       "      <td>5.0</td>\n",
       "    </tr>\n",
       "    <tr>\n",
       "      <th>21088093</th>\n",
       "      <td>137072</td>\n",
       "      <td>137857</td>\n",
       "      <td>4.0</td>\n",
       "    </tr>\n",
       "    <tr>\n",
       "      <th>5926187</th>\n",
       "      <td>38412</td>\n",
       "      <td>3105</td>\n",
       "      <td>5.0</td>\n",
       "    </tr>\n",
       "    <tr>\n",
       "      <th>22901564</th>\n",
       "      <td>148789</td>\n",
       "      <td>160080</td>\n",
       "      <td>4.0</td>\n",
       "    </tr>\n",
       "    <tr>\n",
       "      <th>17942119</th>\n",
       "      <td>116262</td>\n",
       "      <td>4979</td>\n",
       "      <td>3.5</td>\n",
       "    </tr>\n",
       "    <tr>\n",
       "      <th>15389136</th>\n",
       "      <td>99726</td>\n",
       "      <td>551</td>\n",
       "      <td>3.5</td>\n",
       "    </tr>\n",
       "    <tr>\n",
       "      <th>17686493</th>\n",
       "      <td>114638</td>\n",
       "      <td>593</td>\n",
       "      <td>4.5</td>\n",
       "    </tr>\n",
       "  </tbody>\n",
       "</table>\n",
       "</div>"
      ],
      "text/plain": [
       "          userId  movieId  rating\n",
       "6915171    44875     2174     5.0\n",
       "11834568   76710    50872     4.5\n",
       "9037525    58885     7153     5.0\n",
       "2260856    15059   175303     5.0\n",
       "21088093  137072   137857     4.0\n",
       "5926187    38412     3105     5.0\n",
       "22901564  148789   160080     4.0\n",
       "17942119  116262     4979     3.5\n",
       "15389136   99726      551     3.5\n",
       "17686493  114638      593     4.5"
      ]
     },
     "execution_count": 18,
     "metadata": {},
     "output_type": "execute_result"
    }
   ],
   "source": [
    "filtered_ratings.head(10)"
   ]
  },
  {
   "cell_type": "code",
   "execution_count": 19,
   "metadata": {
    "colab": {},
    "colab_type": "code",
    "id": "9e8Pa4YOIy1x"
   },
   "outputs": [],
   "source": [
    "filtered_ratings1 = pd.merge(moviesdata[['movieId']], filtered_ratings, on=\"movieId\", how=\"right\")"
   ]
  },
  {
   "cell_type": "code",
   "execution_count": 20,
   "metadata": {
    "colab": {},
    "colab_type": "code",
    "id": "BAE-MTxyIyw7"
   },
   "outputs": [],
   "source": [
    "filtered_ratings1.head(10)\n",
    "filtered_ratings2=pd.pivot(filtered_ratings1,index = 'movieId', columns ='userId', values = 'rating').fillna(0)"
   ]
  },
  {
   "cell_type": "code",
   "execution_count": 21,
   "metadata": {
    "colab": {
     "base_uri": "https://localhost:8080/",
     "height": 422
    },
    "colab_type": "code",
    "id": "gOa0gruBGo0V",
    "outputId": "bfa6d44f-5ca1-4bc3-c49a-bba70bbe6e7b"
   },
   "outputs": [
    {
     "data": {
      "text/html": [
       "<div>\n",
       "<style scoped>\n",
       "    .dataframe tbody tr th:only-of-type {\n",
       "        vertical-align: middle;\n",
       "    }\n",
       "\n",
       "    .dataframe tbody tr th {\n",
       "        vertical-align: top;\n",
       "    }\n",
       "\n",
       "    .dataframe thead th {\n",
       "        text-align: right;\n",
       "    }\n",
       "</style>\n",
       "<table border=\"1\" class=\"dataframe\">\n",
       "  <thead>\n",
       "    <tr style=\"text-align: right;\">\n",
       "      <th>userId</th>\n",
       "      <th>2</th>\n",
       "      <th>3</th>\n",
       "      <th>4</th>\n",
       "      <th>9</th>\n",
       "      <th>12</th>\n",
       "      <th>13</th>\n",
       "      <th>18</th>\n",
       "      <th>19</th>\n",
       "      <th>23</th>\n",
       "      <th>31</th>\n",
       "      <th>...</th>\n",
       "      <th>162515</th>\n",
       "      <th>162516</th>\n",
       "      <th>162519</th>\n",
       "      <th>162521</th>\n",
       "      <th>162524</th>\n",
       "      <th>162529</th>\n",
       "      <th>162532</th>\n",
       "      <th>162533</th>\n",
       "      <th>162534</th>\n",
       "      <th>162541</th>\n",
       "    </tr>\n",
       "    <tr>\n",
       "      <th>movieId</th>\n",
       "      <th></th>\n",
       "      <th></th>\n",
       "      <th></th>\n",
       "      <th></th>\n",
       "      <th></th>\n",
       "      <th></th>\n",
       "      <th></th>\n",
       "      <th></th>\n",
       "      <th></th>\n",
       "      <th></th>\n",
       "      <th></th>\n",
       "      <th></th>\n",
       "      <th></th>\n",
       "      <th></th>\n",
       "      <th></th>\n",
       "      <th></th>\n",
       "      <th></th>\n",
       "      <th></th>\n",
       "      <th></th>\n",
       "      <th></th>\n",
       "      <th></th>\n",
       "    </tr>\n",
       "  </thead>\n",
       "  <tbody>\n",
       "    <tr>\n",
       "      <th>1</th>\n",
       "      <td>0.0</td>\n",
       "      <td>0.0</td>\n",
       "      <td>0.0</td>\n",
       "      <td>0.0</td>\n",
       "      <td>0.0</td>\n",
       "      <td>0.0</td>\n",
       "      <td>3.0</td>\n",
       "      <td>0.0</td>\n",
       "      <td>0.0</td>\n",
       "      <td>0.0</td>\n",
       "      <td>...</td>\n",
       "      <td>0.0</td>\n",
       "      <td>0.0</td>\n",
       "      <td>0.0</td>\n",
       "      <td>0.0</td>\n",
       "      <td>4.5</td>\n",
       "      <td>2.0</td>\n",
       "      <td>0.0</td>\n",
       "      <td>4.5</td>\n",
       "      <td>0.0</td>\n",
       "      <td>0.0</td>\n",
       "    </tr>\n",
       "    <tr>\n",
       "      <th>2</th>\n",
       "      <td>0.0</td>\n",
       "      <td>0.0</td>\n",
       "      <td>0.0</td>\n",
       "      <td>0.0</td>\n",
       "      <td>0.0</td>\n",
       "      <td>0.0</td>\n",
       "      <td>0.0</td>\n",
       "      <td>3.5</td>\n",
       "      <td>0.0</td>\n",
       "      <td>0.0</td>\n",
       "      <td>...</td>\n",
       "      <td>0.0</td>\n",
       "      <td>2.5</td>\n",
       "      <td>0.0</td>\n",
       "      <td>0.0</td>\n",
       "      <td>0.0</td>\n",
       "      <td>0.0</td>\n",
       "      <td>0.0</td>\n",
       "      <td>4.0</td>\n",
       "      <td>0.0</td>\n",
       "      <td>0.0</td>\n",
       "    </tr>\n",
       "    <tr>\n",
       "      <th>3</th>\n",
       "      <td>0.0</td>\n",
       "      <td>0.0</td>\n",
       "      <td>0.0</td>\n",
       "      <td>0.0</td>\n",
       "      <td>2.0</td>\n",
       "      <td>0.0</td>\n",
       "      <td>0.0</td>\n",
       "      <td>0.0</td>\n",
       "      <td>0.0</td>\n",
       "      <td>0.0</td>\n",
       "      <td>...</td>\n",
       "      <td>0.0</td>\n",
       "      <td>0.0</td>\n",
       "      <td>0.0</td>\n",
       "      <td>0.0</td>\n",
       "      <td>0.0</td>\n",
       "      <td>0.0</td>\n",
       "      <td>0.0</td>\n",
       "      <td>0.0</td>\n",
       "      <td>0.0</td>\n",
       "      <td>0.0</td>\n",
       "    </tr>\n",
       "    <tr>\n",
       "      <th>4</th>\n",
       "      <td>0.0</td>\n",
       "      <td>0.0</td>\n",
       "      <td>0.0</td>\n",
       "      <td>0.0</td>\n",
       "      <td>0.0</td>\n",
       "      <td>0.0</td>\n",
       "      <td>0.0</td>\n",
       "      <td>0.0</td>\n",
       "      <td>0.0</td>\n",
       "      <td>0.0</td>\n",
       "      <td>...</td>\n",
       "      <td>0.0</td>\n",
       "      <td>0.0</td>\n",
       "      <td>0.0</td>\n",
       "      <td>0.0</td>\n",
       "      <td>0.0</td>\n",
       "      <td>0.0</td>\n",
       "      <td>0.0</td>\n",
       "      <td>0.0</td>\n",
       "      <td>0.0</td>\n",
       "      <td>0.0</td>\n",
       "    </tr>\n",
       "    <tr>\n",
       "      <th>5</th>\n",
       "      <td>0.0</td>\n",
       "      <td>0.0</td>\n",
       "      <td>0.0</td>\n",
       "      <td>0.0</td>\n",
       "      <td>0.0</td>\n",
       "      <td>0.0</td>\n",
       "      <td>0.0</td>\n",
       "      <td>0.0</td>\n",
       "      <td>0.0</td>\n",
       "      <td>0.0</td>\n",
       "      <td>...</td>\n",
       "      <td>0.0</td>\n",
       "      <td>0.0</td>\n",
       "      <td>0.0</td>\n",
       "      <td>0.0</td>\n",
       "      <td>0.0</td>\n",
       "      <td>0.0</td>\n",
       "      <td>0.0</td>\n",
       "      <td>0.0</td>\n",
       "      <td>0.0</td>\n",
       "      <td>0.0</td>\n",
       "    </tr>\n",
       "    <tr>\n",
       "      <th>6</th>\n",
       "      <td>0.0</td>\n",
       "      <td>0.0</td>\n",
       "      <td>0.0</td>\n",
       "      <td>0.0</td>\n",
       "      <td>0.0</td>\n",
       "      <td>0.0</td>\n",
       "      <td>0.0</td>\n",
       "      <td>0.0</td>\n",
       "      <td>0.0</td>\n",
       "      <td>0.0</td>\n",
       "      <td>...</td>\n",
       "      <td>0.0</td>\n",
       "      <td>0.0</td>\n",
       "      <td>2.0</td>\n",
       "      <td>0.0</td>\n",
       "      <td>0.0</td>\n",
       "      <td>0.0</td>\n",
       "      <td>0.0</td>\n",
       "      <td>0.0</td>\n",
       "      <td>0.0</td>\n",
       "      <td>0.0</td>\n",
       "    </tr>\n",
       "    <tr>\n",
       "      <th>7</th>\n",
       "      <td>0.0</td>\n",
       "      <td>0.0</td>\n",
       "      <td>0.0</td>\n",
       "      <td>0.0</td>\n",
       "      <td>0.0</td>\n",
       "      <td>0.0</td>\n",
       "      <td>0.0</td>\n",
       "      <td>0.0</td>\n",
       "      <td>0.0</td>\n",
       "      <td>0.0</td>\n",
       "      <td>...</td>\n",
       "      <td>0.0</td>\n",
       "      <td>2.0</td>\n",
       "      <td>0.0</td>\n",
       "      <td>0.0</td>\n",
       "      <td>0.0</td>\n",
       "      <td>0.0</td>\n",
       "      <td>0.0</td>\n",
       "      <td>0.0</td>\n",
       "      <td>0.0</td>\n",
       "      <td>0.0</td>\n",
       "    </tr>\n",
       "    <tr>\n",
       "      <th>8</th>\n",
       "      <td>0.0</td>\n",
       "      <td>0.0</td>\n",
       "      <td>0.0</td>\n",
       "      <td>0.0</td>\n",
       "      <td>0.0</td>\n",
       "      <td>0.0</td>\n",
       "      <td>0.0</td>\n",
       "      <td>0.0</td>\n",
       "      <td>0.0</td>\n",
       "      <td>0.0</td>\n",
       "      <td>...</td>\n",
       "      <td>0.0</td>\n",
       "      <td>0.0</td>\n",
       "      <td>0.0</td>\n",
       "      <td>0.0</td>\n",
       "      <td>0.0</td>\n",
       "      <td>0.0</td>\n",
       "      <td>0.0</td>\n",
       "      <td>0.0</td>\n",
       "      <td>0.0</td>\n",
       "      <td>0.0</td>\n",
       "    </tr>\n",
       "    <tr>\n",
       "      <th>9</th>\n",
       "      <td>0.0</td>\n",
       "      <td>0.0</td>\n",
       "      <td>0.0</td>\n",
       "      <td>0.0</td>\n",
       "      <td>0.0</td>\n",
       "      <td>0.0</td>\n",
       "      <td>0.0</td>\n",
       "      <td>0.0</td>\n",
       "      <td>0.0</td>\n",
       "      <td>0.0</td>\n",
       "      <td>...</td>\n",
       "      <td>0.0</td>\n",
       "      <td>0.0</td>\n",
       "      <td>0.0</td>\n",
       "      <td>0.0</td>\n",
       "      <td>0.0</td>\n",
       "      <td>0.0</td>\n",
       "      <td>0.0</td>\n",
       "      <td>0.0</td>\n",
       "      <td>0.0</td>\n",
       "      <td>0.0</td>\n",
       "    </tr>\n",
       "    <tr>\n",
       "      <th>10</th>\n",
       "      <td>0.0</td>\n",
       "      <td>0.0</td>\n",
       "      <td>0.0</td>\n",
       "      <td>5.0</td>\n",
       "      <td>0.0</td>\n",
       "      <td>0.0</td>\n",
       "      <td>4.0</td>\n",
       "      <td>0.0</td>\n",
       "      <td>0.0</td>\n",
       "      <td>0.0</td>\n",
       "      <td>...</td>\n",
       "      <td>0.0</td>\n",
       "      <td>0.0</td>\n",
       "      <td>3.0</td>\n",
       "      <td>0.0</td>\n",
       "      <td>0.0</td>\n",
       "      <td>0.0</td>\n",
       "      <td>0.0</td>\n",
       "      <td>0.0</td>\n",
       "      <td>0.0</td>\n",
       "      <td>0.0</td>\n",
       "    </tr>\n",
       "  </tbody>\n",
       "</table>\n",
       "<p>10 rows × 44856 columns</p>\n",
       "</div>"
      ],
      "text/plain": [
       "userId   2       3       4       9       12      13      18      19      \\\n",
       "movieId                                                                   \n",
       "1           0.0     0.0     0.0     0.0     0.0     0.0     3.0     0.0   \n",
       "2           0.0     0.0     0.0     0.0     0.0     0.0     0.0     3.5   \n",
       "3           0.0     0.0     0.0     0.0     2.0     0.0     0.0     0.0   \n",
       "4           0.0     0.0     0.0     0.0     0.0     0.0     0.0     0.0   \n",
       "5           0.0     0.0     0.0     0.0     0.0     0.0     0.0     0.0   \n",
       "6           0.0     0.0     0.0     0.0     0.0     0.0     0.0     0.0   \n",
       "7           0.0     0.0     0.0     0.0     0.0     0.0     0.0     0.0   \n",
       "8           0.0     0.0     0.0     0.0     0.0     0.0     0.0     0.0   \n",
       "9           0.0     0.0     0.0     0.0     0.0     0.0     0.0     0.0   \n",
       "10          0.0     0.0     0.0     5.0     0.0     0.0     4.0     0.0   \n",
       "\n",
       "userId   23      31      ...  162515  162516  162519  162521  162524  162529  \\\n",
       "movieId                  ...                                                   \n",
       "1           0.0     0.0  ...     0.0     0.0     0.0     0.0     4.5     2.0   \n",
       "2           0.0     0.0  ...     0.0     2.5     0.0     0.0     0.0     0.0   \n",
       "3           0.0     0.0  ...     0.0     0.0     0.0     0.0     0.0     0.0   \n",
       "4           0.0     0.0  ...     0.0     0.0     0.0     0.0     0.0     0.0   \n",
       "5           0.0     0.0  ...     0.0     0.0     0.0     0.0     0.0     0.0   \n",
       "6           0.0     0.0  ...     0.0     0.0     2.0     0.0     0.0     0.0   \n",
       "7           0.0     0.0  ...     0.0     2.0     0.0     0.0     0.0     0.0   \n",
       "8           0.0     0.0  ...     0.0     0.0     0.0     0.0     0.0     0.0   \n",
       "9           0.0     0.0  ...     0.0     0.0     0.0     0.0     0.0     0.0   \n",
       "10          0.0     0.0  ...     0.0     0.0     3.0     0.0     0.0     0.0   \n",
       "\n",
       "userId   162532  162533  162534  162541  \n",
       "movieId                                  \n",
       "1           0.0     4.5     0.0     0.0  \n",
       "2           0.0     4.0     0.0     0.0  \n",
       "3           0.0     0.0     0.0     0.0  \n",
       "4           0.0     0.0     0.0     0.0  \n",
       "5           0.0     0.0     0.0     0.0  \n",
       "6           0.0     0.0     0.0     0.0  \n",
       "7           0.0     0.0     0.0     0.0  \n",
       "8           0.0     0.0     0.0     0.0  \n",
       "9           0.0     0.0     0.0     0.0  \n",
       "10          0.0     0.0     0.0     0.0  \n",
       "\n",
       "[10 rows x 44856 columns]"
      ]
     },
     "execution_count": 21,
     "metadata": {},
     "output_type": "execute_result"
    }
   ],
   "source": [
    "filtered_ratings2.head(10)"
   ]
  },
  {
   "cell_type": "markdown",
   "metadata": {
    "colab_type": "text",
    "id": "TcakPUn4KM4d"
   },
   "source": [
    "<h1>Module 2: Hybrid Recommendations</h1>"
   ]
  },
  {
   "cell_type": "code",
   "execution_count": null,
   "metadata": {
    "colab": {},
    "colab_type": "code",
    "id": "bARgTMykIyux"
   },
   "outputs": [],
   "source": []
  },
  {
   "cell_type": "code",
   "execution_count": null,
   "metadata": {
    "colab": {},
    "colab_type": "code",
    "id": "Ze9dfM-tIysx"
   },
   "outputs": [],
   "source": []
  },
  {
   "cell_type": "code",
   "execution_count": 22,
   "metadata": {
    "colab": {
     "base_uri": "https://localhost:8080/",
     "height": 34
    },
    "colab_type": "code",
    "id": "Hdsk_6ZtIyqj",
    "outputId": "22345a61-322e-4145-f6e5-ba5e7c7d7d0b"
   },
   "outputs": [
    {
     "data": {
      "text/plain": [
       "39070"
      ]
     },
     "execution_count": 22,
     "metadata": {},
     "output_type": "execute_result"
    }
   ],
   "source": [
    "len(filtered_ratings.movieId.unique())"
   ]
  },
  {
   "cell_type": "code",
   "execution_count": 23,
   "metadata": {
    "colab": {},
    "colab_type": "code",
    "id": "mIHY1DYwI9K1"
   },
   "outputs": [],
   "source": [
    "singularVD = TruncatedSVD(n_components=200)\n",
    "intermatgensec = singularVD.fit_transform(filtered_ratings2)\n",
    "intermatgensecdata = pd.DataFrame(intermatgensec, index=finmat.title.tolist())"
   ]
  },
  {
   "cell_type": "code",
   "execution_count": 24,
   "metadata": {
    "colab": {
     "base_uri": "https://localhost:8080/",
     "height": 281
    },
    "colab_type": "code",
    "id": "dZB9or5nI9G6",
    "outputId": "24784c4c-dbce-46f5-ff63-cf72cffdf829"
   },
   "outputs": [
    {
     "data": {
      "image/png": "[encoded data removed]",
      "text/plain": [
       "<Figure size 432x288 with 1 Axes>"
      ]
     },
     "metadata": {
      "needs_background": "light"
     },
     "output_type": "display_data"
    }
   ],
   "source": [
    "explotter = singularVD.explained_variance_ratio_.cumsum()\n",
    "plt.plot(explotter,'-', ms = 16, color='blue')\n",
    "plt.xlabel('components', fontsize= 10)\n",
    "plt.ylabel('amount of var', fontsize=10)        \n",
    "plt.show()"
   ]
  },
  {
   "cell_type": "code",
   "execution_count": 25,
   "metadata": {
    "colab": {},
    "colab_type": "code",
    "id": "o56xMHyVI9E4"
   },
   "outputs": [],
   "source": [
    "simmovie_1= np.array(intermatgen_1_df.loc['Toy Story (1995)']).reshape(1, -1)\n",
    "simmovie_2 = np.array(intermatgensecdata.loc['Toy Story (1995)']).reshape(1, -1)\n",
    "conscore = cosine_similarity(intermatgen_1_df, simmovie_1).reshape(-1)\n",
    "collabscore = cosine_similarity(intermatgensecdata, simmovie_2).reshape(-1)\n",
    "hybridsim = ((conscore + collabscore)/2.0)\n",
    "simdic = {'content': conscore , 'collaborative': collabscore, 'hybrid': hybridsim} \n",
    "simdf = pd.DataFrame(simdic, index = intermatgen_1_df.index )\n",
    "simdf.sort_values('content', ascending=False, inplace=True)\n",
    "#simdf[1:].head(10)"
   ]
  },
  {
   "cell_type": "code",
   "execution_count": 26,
   "metadata": {
    "colab": {
     "base_uri": "https://localhost:8080/",
     "height": 202
    },
    "colab_type": "code",
    "id": "BwGGPkaPI9Cu",
    "outputId": "e2801b7d-bbdd-4afe-d42f-9b62fb2e8f5e"
   },
   "outputs": [
    {
     "data": {
      "text/plain": [
       "Toy Story (1995)         1.000000\n",
       "Toy Story 2 (1999)       0.931668\n",
       "Bug's Life, A (1998)     0.894620\n",
       "Monsters, Inc. (2001)    0.886384\n",
       "Ratatouille (2007)       0.833410\n",
       "Finding Nemo (2003)      0.805085\n",
       "Finding Dory (2016)      0.768618\n",
       "Ice Age (2002)           0.745094\n",
       "Big Hero 6 (2014)        0.735973\n",
       "Toy Story 3 (2010)       0.732900\n",
       "Name: content, dtype: float64"
      ]
     },
     "execution_count": 26,
     "metadata": {},
     "output_type": "execute_result"
    }
   ],
   "source": [
    "simdf[0:].content.head(10)"
   ]
  },
  {
   "cell_type": "code",
   "execution_count": 27,
   "metadata": {
    "colab": {
     "base_uri": "https://localhost:8080/",
     "height": 202
    },
    "colab_type": "code",
    "id": "3CEZFtAOI8_3",
    "outputId": "47e3531d-e9e4-45de-8bce-07721880089c"
   },
   "outputs": [
    {
     "data": {
      "text/plain": [
       "Toy Story (1995)         1.000000\n",
       "Toy Story 2 (1999)       0.143483\n",
       "Bug's Life, A (1998)     0.162121\n",
       "Monsters, Inc. (2001)    0.131443\n",
       "Ratatouille (2007)       0.166524\n",
       "Finding Nemo (2003)      0.134792\n",
       "Finding Dory (2016)      0.185164\n",
       "Ice Age (2002)           0.152623\n",
       "Big Hero 6 (2014)        0.198170\n",
       "Toy Story 3 (2010)       0.247419\n",
       "Name: collaborative, dtype: float64"
      ]
     },
     "execution_count": 27,
     "metadata": {},
     "output_type": "execute_result"
    }
   ],
   "source": [
    "simdf[0:].collaborative.head(10)"
   ]
  },
  {
   "cell_type": "code",
   "execution_count": 28,
   "metadata": {
    "colab": {
     "base_uri": "https://localhost:8080/",
     "height": 202
    },
    "colab_type": "code",
    "id": "NPx_iNTKIync",
    "outputId": "ea314b05-924b-473c-b2c3-9ecdb8c5c36c"
   },
   "outputs": [
    {
     "data": {
      "text/plain": [
       "Toy Story (1995)         1.000000\n",
       "Toy Story 2 (1999)       0.537576\n",
       "Bug's Life, A (1998)     0.528371\n",
       "Monsters, Inc. (2001)    0.508914\n",
       "Ratatouille (2007)       0.499967\n",
       "Finding Nemo (2003)      0.469938\n",
       "Finding Dory (2016)      0.476891\n",
       "Ice Age (2002)           0.448858\n",
       "Big Hero 6 (2014)        0.467072\n",
       "Toy Story 3 (2010)       0.490159\n",
       "Name: hybrid, dtype: float64"
      ]
     },
     "execution_count": 28,
     "metadata": {},
     "output_type": "execute_result"
    }
   ],
   "source": [
    "simdf[0:].hybrid.head(10)"
   ]
  },
  {
   "cell_type": "code",
   "execution_count": null,
   "metadata": {
    "colab": {},
    "colab_type": "code",
    "id": "11CmdQO9Ikbz"
   },
   "outputs": [],
   "source": []
  },
  {
   "cell_type": "markdown",
   "metadata": {
    "colab_type": "text",
    "id": "XN7ScFVd96Yq"
   },
   "source": []
  },
  {
   "cell_type": "markdown",
   "metadata": {
    "colab_type": "text",
    "id": "02ioSye999MZ"
   },
   "source": []
  },
  {
   "cell_type": "markdown",
   "metadata": {
    "colab_type": "text",
    "id": "QKdWf6Rc-EiW"
   },
   "source": [
    "<h1>Final Module:</h1>"
   ]
  },
  {
   "cell_type": "code",
   "execution_count": 29,
   "metadata": {
    "colab": {},
    "colab_type": "code",
    "id": "nBc0_7x6YR2r"
   },
   "outputs": [],
   "source": [
    "def showprecrec(predrat, k=10, threshold=3.5):\n",
    "    uet = defaultdict(list)\n",
    "    for uid, _, true_r, est, _ in predrat:\n",
    "        uet[uid].append((est, true_r))\n",
    "    precc = dict()\n",
    "    recc = dict()\n",
    "    for uid, urats in uet.items():\n",
    "        urats.sort(key=lambda x: x[0], reverse=True)\n",
    "        n_rel = sum((true_r >= threshold) for (_, true_r) in urats)\n",
    "        n_rec_k = sum((est >= threshold) for (est, _) in urats[:k])\n",
    "        n_rel_and_rec_k = sum(((true_r >= threshold) and (est >= threshold))\n",
    "                              for (est, true_r) in urats[:k])\n",
    "        precc[uid] = n_rel_and_rec_k / n_rec_k if n_rec_k != 0 else 1\n",
    "        recc[uid] = n_rel_and_rec_k / n_rel if n_rel != 0 else 1\n",
    "    return precc, recc"
   ]
  },
  {
   "cell_type": "code",
   "execution_count": 30,
   "metadata": {
    "colab": {
     "base_uri": "https://localhost:8080/",
     "height": 269
    },
    "colab_type": "code",
    "id": "DyeOXW5LYRzF",
    "outputId": "96e75816-6a15-4e38-ae9b-d41605b614df"
   },
   "outputs": [
    {
     "name": "stdout",
     "output_type": "stream",
     "text": [
      "RMSE: 0.8497\n",
      "0.8496769363362212\n"
     ]
    },
    {
     "data": {
      "text/plain": [
       "\"for trainset, testset in kf.split(data):\\n    algo.fit(trainset)\\n    predrat = algo.test(testset)\\n    precc, recc = showprecrec(predrat, k=5, threshold=4)\\n    print('precision and recall at k')\\n    print(sum(prec for prec in precc.values()) / len(precc))\\n    print(sum(rec for rec in recc.values()) / len(recc))\\n    print(accuracy.rmse(predrat, verbose=True))\""
      ]
     },
     "execution_count": 30,
     "metadata": {},
     "output_type": "execute_result"
    }
   ],
   "source": [
    "reader = Reader(rating_scale=(1, 5))\n",
    "data = Dataset.load_from_df(filtered_ratings[['userId','movieId','rating']], reader)\n",
    "trainset, testset = train_test_split(data, test_size=.25)\n",
    "algo = SVD()\n",
    "algo.fit(trainset)\n",
    "predrat = algo.test(testset)\n",
    "print(accuracy.rmse(predrat, verbose=True)) # rmse \n",
    "# can calculate better accuracy[precsion and recall bhi calculate] by using K fold shaayd but then hit ratio 83 tha  idk :(((\n",
    "# time will inccrrease to about 10 min but :)v\n",
    "#kf = KFold(n_splits=5)\n",
    "'''for trainset, testset in kf.split(data):\n",
    "    algo.fit(trainset)\n",
    "    predrat = algo.test(testset)\n",
    "    precc, recc = showprecrec(predrat, k=5, threshold=4)\n",
    "    print('precision and recall at k')\n",
    "    print(sum(prec for prec in precc.values()) / len(precc))\n",
    "    print(sum(rec for rec in recc.values()) / len(recc))\n",
    "    print(accuracy.rmse(predrat, verbose=True))'''\n",
    "    "
   ]
  },
  {
   "cell_type": "code",
   "execution_count": 48,
   "metadata": {
    "colab": {},
    "colab_type": "code",
    "id": "pYahyCw4-Iyj"
   },
   "outputs": [],
   "source": [
    "def recommovie(ui):\n",
    "    if ui in filtered_ratings.userId.unique():\n",
    "        listforuser = filtered_ratings[filtered_ratings.userId == ui].movieId.tolist()\n",
    "        d = {k: v for k,v in Mapit.items() if not v in listforuser}        \n",
    "        predlus = []\n",
    "        for i, j in d.items():     \n",
    "            predic = algo.predict(ui, j)\n",
    "            predlus.append((i, predic[3])) \n",
    "        predf = pd.DataFrame(predlus, columns = ['movies', 'ratings'])\n",
    "        predf.sort_values('ratings', ascending=False, inplace=True)  \n",
    "        predf.set_index('movies', inplace=True) \n",
    "        return predf.head(10)        \n",
    "    else:\n",
    "        print(\"Does not exist\")\n",
    "        return None"
   ]
  },
  {
   "cell_type": "code",
   "execution_count": 55,
   "metadata": {
    "colab": {
     "base_uri": "https://localhost:8080/",
     "height": 373
    },
    "colab_type": "code",
    "id": "UPH5UdfiYOIf",
    "outputId": "8a17bb7b-4f72-4f97-bc23-5d41770f424a"
   },
   "outputs": [
    {
     "data": {
      "text/html": [
       "<div>\n",
       "<style scoped>\n",
       "    .dataframe tbody tr th:only-of-type {\n",
       "        vertical-align: middle;\n",
       "    }\n",
       "\n",
       "    .dataframe tbody tr th {\n",
       "        vertical-align: top;\n",
       "    }\n",
       "\n",
       "    .dataframe thead th {\n",
       "        text-align: right;\n",
       "    }\n",
       "</style>\n",
       "<table border=\"1\" class=\"dataframe\">\n",
       "  <thead>\n",
       "    <tr style=\"text-align: right;\">\n",
       "      <th></th>\n",
       "      <th>ratings</th>\n",
       "    </tr>\n",
       "    <tr>\n",
       "      <th>movies</th>\n",
       "      <th></th>\n",
       "    </tr>\n",
       "  </thead>\n",
       "  <tbody>\n",
       "    <tr>\n",
       "      <th>Casablanca (1942)</th>\n",
       "      <td>4.897250</td>\n",
       "    </tr>\n",
       "    <tr>\n",
       "      <th>Shawshank Redemption, The (1994)</th>\n",
       "      <td>4.888814</td>\n",
       "    </tr>\n",
       "    <tr>\n",
       "      <th>Exterminating Angel, The (Ángel exterminador, El) (1962)</th>\n",
       "      <td>4.863794</td>\n",
       "    </tr>\n",
       "    <tr>\n",
       "      <th>Band of Brothers (2001)</th>\n",
       "      <td>4.863073</td>\n",
       "    </tr>\n",
       "    <tr>\n",
       "      <th>Life (2009)</th>\n",
       "      <td>4.847143</td>\n",
       "    </tr>\n",
       "    <tr>\n",
       "      <th>Planet Earth (2006)</th>\n",
       "      <td>4.837872</td>\n",
       "    </tr>\n",
       "    <tr>\n",
       "      <th>Werckmeister Harmonies (Werckmeister harmóniák) (2000)</th>\n",
       "      <td>4.837095</td>\n",
       "    </tr>\n",
       "    <tr>\n",
       "      <th>The Jinx: The Life and Deaths of Robert Durst (2015)</th>\n",
       "      <td>4.826908</td>\n",
       "    </tr>\n",
       "    <tr>\n",
       "      <th>Jetée, La (1962)</th>\n",
       "      <td>4.816185</td>\n",
       "    </tr>\n",
       "    <tr>\n",
       "      <th>Harakiri (Seppuku) (1962)</th>\n",
       "      <td>4.793662</td>\n",
       "    </tr>\n",
       "  </tbody>\n",
       "</table>\n",
       "</div>"
      ],
      "text/plain": [
       "                                                     ratings\n",
       "movies                                                      \n",
       "Casablanca (1942)                                   4.897250\n",
       "Shawshank Redemption, The (1994)                    4.888814\n",
       "Exterminating Angel, The (Ángel exterminador, E...  4.863794\n",
       "Band of Brothers (2001)                             4.863073\n",
       "Life (2009)                                         4.847143\n",
       "Planet Earth (2006)                                 4.837872\n",
       "Werckmeister Harmonies (Werckmeister harmóniák)...  4.837095\n",
       "The Jinx: The Life and Deaths of Robert Durst (...  4.826908\n",
       "Jetée, La (1962)                                    4.816185\n",
       "Harakiri (Seppuku) (1962)                           4.793662"
      ]
     },
     "execution_count": 55,
     "metadata": {},
     "output_type": "execute_result"
    }
   ],
   "source": [
    "recommovie(33316)"
   ]
  },
  {
   "cell_type": "code",
   "execution_count": 37,
   "metadata": {
    "colab": {},
    "colab_type": "code",
    "id": "mTF_SsQnYOES"
   },
   "outputs": [],
   "source": [
    "uusers = filtered_ratings.userId.unique()"
   ]
  },
  {
   "cell_type": "code",
   "execution_count": 38,
   "metadata": {
    "colab": {
     "base_uri": "https://localhost:8080/",
     "height": 672
    },
    "colab_type": "code",
    "id": "htCen4cSGo1P",
    "outputId": "b4004f38-b73d-4512-f914-7a2eeba1d5c0"
   },
   "outputs": [
    {
     "data": {
      "text/plain": [
       "array([ 44875,  76710,  58885, ...,  80488, 132702,  33316])"
      ]
     },
     "execution_count": 38,
     "metadata": {},
     "output_type": "execute_result"
    }
   ],
   "source": [
    "uusers"
   ]
  },
  {
   "cell_type": "code",
   "execution_count": 39,
   "metadata": {
    "colab": {},
    "colab_type": "code",
    "id": "uBiSWfpvYOAv"
   },
   "outputs": [],
   "source": [
    "uusers = uusers[0:50]"
   ]
  },
  {
   "cell_type": "code",
   "execution_count": 40,
   "metadata": {
    "colab": {},
    "colab_type": "code",
    "id": "VhUFbxbsYN66"
   },
   "outputs": [],
   "source": [
    "uusers\n",
    "listofusers = uusers.tolist()"
   ]
  },
  {
   "cell_type": "code",
   "execution_count": 44,
   "metadata": {
    "colab": {},
    "colab_type": "code",
    "id": "Z0CZQbNwYN5b",
    "outputId": "eeb6ed3a-a8a1-4b0e-81d4-9ba07110d3e8"
   },
   "outputs": [],
   "source": [
    "from tkinter import *\n",
    "from tkinter.ttk import Combobox\n",
    "class mywin:\n",
    "    def __init__(self, win):\n",
    "        self.lb1 = Label(win, text='Select the user to recommend for: ')\n",
    "        #self.lb2 = Label(win, text='RECOMMENDER SYSTEM DEMO')\n",
    "        data=listofusers\n",
    "        self.cb=Combobox(window, values=data)\n",
    "        self.lb=Listbox(window, height=10,width = 70, selectmode='multiple')\n",
    "        self.cb.place(x=5, y=100)\n",
    "        self.btn1 = Button(win, text='Add')\n",
    "        self.b1=Button(win, text='Recommend', command=self.recom)\n",
    "        self.lb1.place(x=0, y=50)\n",
    "        #self.lb2.place(x=0,y=10)\n",
    "        self.b1.place(x=200, y=95)\n",
    "        self.lb.place(x=300, y=95)\n",
    "        self.T = Text(win, height=1, width=30,font='Helvetica 12 bold')\n",
    "        self.T.pack()\n",
    "        self.T.insert(END, \"HYBRID RECOMMENDER SYSTEM\")\n",
    "    def recom(self):\n",
    "        self.lb.delete(0,END)\n",
    "        uid = self.cb.get()\n",
    "        uid = int(uid)\n",
    "        #print(type(uid))\n",
    "        op = recommovie(uid)\n",
    "        finalmovies = op.index.tolist()\n",
    "        for n in finalmovies:\n",
    "            self.lb.insert(END,n)\n",
    "        #print(finalmovies)\n",
    "        \n",
    "window=Tk()\n",
    "mywin=mywin(window)\n",
    "window.title('Hybrid Recommender System')\n",
    "window.geometry(\"800x400+10+10\")\n",
    "window['background']='#003366'\n",
    "window.mainloop()"
   ]
  },
  {
   "cell_type": "code",
   "execution_count": 37,
   "metadata": {
    "colab": {},
    "colab_type": "code",
    "id": "dn6HtSeOYN3P",
    "outputId": "1a1598da-dae9-4780-b8c5-ec157204f01e"
   },
   "outputs": [
    {
     "data": {
      "text/plain": [
       "[39967,\n",
       " 100358,\n",
       " 103244,\n",
       " 15612,\n",
       " 21185,\n",
       " 33985,\n",
       " 120890,\n",
       " 33349,\n",
       " 13296,\n",
       " 26888,\n",
       " 38552,\n",
       " 106097,\n",
       " 64430,\n",
       " 63247,\n",
       " 3236,\n",
       " 124181,\n",
       " 14856,\n",
       " 102587,\n",
       " 41859,\n",
       " 8805,\n",
       " 16452,\n",
       " 56394,\n",
       " 128854,\n",
       " 108097,\n",
       " 120105,\n",
       " 93808,\n",
       " 94612,\n",
       " 104129,\n",
       " 26926,\n",
       " 92302,\n",
       " 554,\n",
       " 6966,\n",
       " 62632,\n",
       " 46470,\n",
       " 9784,\n",
       " 66562,\n",
       " 55261,\n",
       " 31715,\n",
       " 42077,\n",
       " 35109,\n",
       " 71992,\n",
       " 85034,\n",
       " 134627,\n",
       " 84700,\n",
       " 25477,\n",
       " 78781,\n",
       " 112269,\n",
       " 119517,\n",
       " 108123,\n",
       " 100778]"
      ]
     },
     "execution_count": 37,
     "metadata": {},
     "output_type": "execute_result"
    }
   ],
   "source": [
    "listofusers"
   ]
  },
  {
   "cell_type": "code",
   "execution_count": null,
   "metadata": {
    "colab": {},
    "colab_type": "code",
    "id": "1vHEl901YN0a"
   },
   "outputs": [],
   "source": []
  },
  {
   "cell_type": "code",
   "execution_count": null,
   "metadata": {
    "colab": {},
    "colab_type": "code",
    "id": "JtRGCCHXGo1b"
   },
   "outputs": [],
   "source": []
  },
  {
   "cell_type": "code",
   "execution_count": 45,
   "metadata": {},
   "outputs": [],
   "source": [
    "pickle.dump(algo, open(\"hybrid.model\", 'wb'))"
   ]
  },
  {
   "cell_type": "code",
   "execution_count": 50,
   "metadata": {},
   "outputs": [],
   "source": [
    "algo2 = pickle.load(open(\"hybrid.model\", 'rb'))"
   ]
  },
  {
   "cell_type": "code",
   "execution_count": 51,
   "metadata": {},
   "outputs": [],
   "source": [
    "def recommovie2(ui):\n",
    "    if ui in filtered_ratings.userId.unique():\n",
    "        listforuser = filtered_ratings[filtered_ratings.userId == ui].movieId.tolist()\n",
    "        d = {k: v for k,v in Mapit.items() if not v in listforuser}        \n",
    "        predlus = []\n",
    "        for i, j in d.items():     \n",
    "            predic = algo2.predict(ui, j)\n",
    "            predlus.append((i, predic[3])) \n",
    "        predf = pd.DataFrame(predlus, columns = ['movies', 'ratings'])\n",
    "        predf.sort_values('ratings', ascending=False, inplace=True)  \n",
    "        predf.set_index('movies', inplace=True) \n",
    "        return predf.head(10)        \n",
    "    else:\n",
    "        print(\"Does not exist\")\n",
    "        return None"
   ]
  },
  {
   "cell_type": "code",
   "execution_count": 53,
   "metadata": {},
   "outputs": [
    {
     "data": {
      "text/html": [
       "<div>\n",
       "<style scoped>\n",
       "    .dataframe tbody tr th:only-of-type {\n",
       "        vertical-align: middle;\n",
       "    }\n",
       "\n",
       "    .dataframe tbody tr th {\n",
       "        vertical-align: top;\n",
       "    }\n",
       "\n",
       "    .dataframe thead th {\n",
       "        text-align: right;\n",
       "    }\n",
       "</style>\n",
       "<table border=\"1\" class=\"dataframe\">\n",
       "  <thead>\n",
       "    <tr style=\"text-align: right;\">\n",
       "      <th></th>\n",
       "      <th>ratings</th>\n",
       "    </tr>\n",
       "    <tr>\n",
       "      <th>movies</th>\n",
       "      <th></th>\n",
       "    </tr>\n",
       "  </thead>\n",
       "  <tbody>\n",
       "    <tr>\n",
       "      <th>Planet Earth II (2016)</th>\n",
       "      <td>4.450877</td>\n",
       "    </tr>\n",
       "    <tr>\n",
       "      <th>Fear and Loathing in Las Vegas (1998)</th>\n",
       "      <td>4.330316</td>\n",
       "    </tr>\n",
       "    <tr>\n",
       "      <th>Come and See (Idi i smotri) (1985)</th>\n",
       "      <td>4.315427</td>\n",
       "    </tr>\n",
       "    <tr>\n",
       "      <th>Dark Knight, The (2008)</th>\n",
       "      <td>4.308501</td>\n",
       "    </tr>\n",
       "    <tr>\n",
       "      <th>Life (2009)</th>\n",
       "      <td>4.308150</td>\n",
       "    </tr>\n",
       "    <tr>\n",
       "      <th>Planet Earth (2006)</th>\n",
       "      <td>4.279360</td>\n",
       "    </tr>\n",
       "    <tr>\n",
       "      <th>Royal Tenenbaums, The (2001)</th>\n",
       "      <td>4.259543</td>\n",
       "    </tr>\n",
       "    <tr>\n",
       "      <th>Wallace &amp; Gromit: The Best of Aardman Animation (1996)</th>\n",
       "      <td>4.255437</td>\n",
       "    </tr>\n",
       "    <tr>\n",
       "      <th>42 Up (1998)</th>\n",
       "      <td>4.218750</td>\n",
       "    </tr>\n",
       "    <tr>\n",
       "      <th>In the Mood For Love (Fa yeung nin wa) (2000)</th>\n",
       "      <td>4.208146</td>\n",
       "    </tr>\n",
       "  </tbody>\n",
       "</table>\n",
       "</div>"
      ],
      "text/plain": [
       "                                                     ratings\n",
       "movies                                                      \n",
       "Planet Earth II (2016)                              4.450877\n",
       "Fear and Loathing in Las Vegas (1998)               4.330316\n",
       "Come and See (Idi i smotri) (1985)                  4.315427\n",
       "Dark Knight, The (2008)                             4.308501\n",
       "Life (2009)                                         4.308150\n",
       "Planet Earth (2006)                                 4.279360\n",
       "Royal Tenenbaums, The (2001)                        4.259543\n",
       "Wallace & Gromit: The Best of Aardman Animation...  4.255437\n",
       "42 Up (1998)                                        4.218750\n",
       "In the Mood For Love (Fa yeung nin wa) (2000)       4.208146"
      ]
     },
     "execution_count": 53,
     "metadata": {},
     "output_type": "execute_result"
    }
   ],
   "source": [
    "recommovie2(137072)"
   ]
  },
  {
   "cell_type": "code",
   "execution_count": 56,
   "metadata": {},
   "outputs": [],
   "source": [
    "df = recommovie2(137072)"
   ]
  },
  {
   "cell_type": "code",
   "execution_count": 73,
   "metadata": {},
   "outputs": [
    {
     "data": {
      "text/plain": [
       "Index(['Planet Earth II (2016)', 'Fear and Loathing in Las Vegas (1998)',\n",
       "       'Come and See (Idi i smotri) (1985)', 'Dark Knight, The (2008)',\n",
       "       'Life (2009)', 'Planet Earth (2006)', 'Royal Tenenbaums, The (2001)',\n",
       "       'Wallace & Gromit: The Best of Aardman Animation (1996)',\n",
       "       '42 Up (1998)', 'In the Mood For Love (Fa yeung nin wa) (2000)'],\n",
       "      dtype='object', name='movies')"
      ]
     },
     "execution_count": 73,
     "metadata": {},
     "output_type": "execute_result"
    }
   ],
   "source": [
    "df['ratings'].index"
   ]
  },
  {
   "cell_type": "code",
   "execution_count": 69,
   "metadata": {},
   "outputs": [
    {
     "data": {
      "text/plain": [
       "pandas.core.series.Series"
      ]
     },
     "execution_count": 69,
     "metadata": {},
     "output_type": "execute_result"
    }
   ],
   "source": [
    "type(df['ratings'])"
   ]
  },
  {
   "cell_type": "code",
   "execution_count": null,
   "metadata": {},
   "outputs": [],
   "source": []
  }
 ],
 "metadata": {
  "colab": {
   "collapsed_sections": [],
   "name": "Demo-Copy1.ipynb",
   "provenance": []
  },
  "kernelspec": {
   "display_name": "Python 3",
   "language": "python",
   "name": "python3"
  },
  "language_info": {
   "codemirror_mode": {
    "name": "ipython",
    "version": 3
   },
   "file_extension": ".py",
   "mimetype": "text/x-python",
   "name": "python",
   "nbconvert_exporter": "python",
   "pygments_lexer": "ipython3",
   "version": "3.8.5"
  }
 },
 "nbformat": 4,
 "nbformat_minor": 1
}
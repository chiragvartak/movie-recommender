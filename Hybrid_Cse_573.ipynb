{
 "cells": [
  {
   "cell_type": "markdown",
   "metadata": {},
   "source": [
    "<h1>Hybrid Movie Recommender System for Mobile Devices</h1>"
   ]
  },
  {
   "cell_type": "markdown",
   "metadata": {
    "colab_type": "text",
    "id": "-cwicdRM9gL6"
   },
   "source": [
    "<h2>Module 1: Data Pre-Processing</h2>"
   ]
  },
  {
   "cell_type": "code",
   "execution_count": 1,
   "metadata": {
    "colab": {},
    "colab_type": "code",
    "id": "whFa3KjbzfXt"
   },
   "outputs": [],
   "source": [
    "import numpy as np\n",
    "import pandas as pd\n",
    "import matplotlib.pyplot as plt \n",
    "import sys\n",
    "import pickle\n",
    "from matplotlib import pyplot\n",
    "from sklearn.feature_extraction.text import TfidfVectorizer\n",
    "from sklearn.metrics.pairwise import cosine_similarity\n",
    "from sklearn.decomposition import TruncatedSVD\n",
    "#!pip install surprise\n",
    "from surprise import Dataset, Reader, SVD, accuracy\n",
    "from surprise.model_selection import train_test_split\n",
    "from surprise.model_selection import KFold\n",
    "from collections import defaultdict\n"
   ]
  },
  {
   "cell_type": "code",
   "execution_count": null,
   "metadata": {},
   "outputs": [],
   "source": []
  },
  {
   "cell_type": "code",
   "execution_count": 2,
   "metadata": {
    "colab": {
     "base_uri": "https://localhost:8080/",
     "height": 121
    },
    "colab_type": "code",
    "id": "sKIhKDlzHCqk",
    "outputId": "a382ee01-85c6-4f0f-dc4b-7bfef00396c0"
   },
   "outputs": [],
   "source": [
    "#from google.colab import drive\n",
    "#drive.mount('/content/drive')"
   ]
  },
  {
   "cell_type": "code",
   "execution_count": 3,
   "metadata": {
    "colab": {},
    "colab_type": "code",
    "id": "xYUUnwjuILHS"
   },
   "outputs": [],
   "source": [
    "moviesdata= pd.read_csv('movie.csv')\n",
    "tagsdata= pd.read_csv('tag.csv')\n",
    "ratingsdata= pd.read_csv('rating.csv')"
   ]
  },
  {
   "cell_type": "code",
   "execution_count": 4,
   "metadata": {
    "colab": {
     "base_uri": "https://localhost:8080/",
     "height": 402
    },
    "colab_type": "code",
    "id": "5i0geyydNH9d",
    "outputId": "b5fb3254-45dc-4f36-b39d-6e42d441d4b4"
   },
   "outputs": [
    {
     "data": {
      "text/html": [
       "<div>\n",
       "<style scoped>\n",
       "    .dataframe tbody tr th:only-of-type {\n",
       "        vertical-align: middle;\n",
       "    }\n",
       "\n",
       "    .dataframe tbody tr th {\n",
       "        vertical-align: top;\n",
       "    }\n",
       "\n",
       "    .dataframe thead th {\n",
       "        text-align: right;\n",
       "    }\n",
       "</style>\n",
       "<table border=\"1\" class=\"dataframe\">\n",
       "  <thead>\n",
       "    <tr style=\"text-align: right;\">\n",
       "      <th></th>\n",
       "      <th>movieId</th>\n",
       "      <th>title</th>\n",
       "      <th>genres</th>\n",
       "    </tr>\n",
       "  </thead>\n",
       "  <tbody>\n",
       "    <tr>\n",
       "      <th>0</th>\n",
       "      <td>1</td>\n",
       "      <td>Toy Story (1995)</td>\n",
       "      <td>Adventure|Animation|Children|Comedy|Fantasy</td>\n",
       "    </tr>\n",
       "    <tr>\n",
       "      <th>1</th>\n",
       "      <td>2</td>\n",
       "      <td>Jumanji (1995)</td>\n",
       "      <td>Adventure|Children|Fantasy</td>\n",
       "    </tr>\n",
       "    <tr>\n",
       "      <th>2</th>\n",
       "      <td>3</td>\n",
       "      <td>Grumpier Old Men (1995)</td>\n",
       "      <td>Comedy|Romance</td>\n",
       "    </tr>\n",
       "    <tr>\n",
       "      <th>3</th>\n",
       "      <td>4</td>\n",
       "      <td>Waiting to Exhale (1995)</td>\n",
       "      <td>Comedy|Drama|Romance</td>\n",
       "    </tr>\n",
       "    <tr>\n",
       "      <th>4</th>\n",
       "      <td>5</td>\n",
       "      <td>Father of the Bride Part II (1995)</td>\n",
       "      <td>Comedy</td>\n",
       "    </tr>\n",
       "    <tr>\n",
       "      <th>...</th>\n",
       "      <td>...</td>\n",
       "      <td>...</td>\n",
       "      <td>...</td>\n",
       "    </tr>\n",
       "    <tr>\n",
       "      <th>27273</th>\n",
       "      <td>131254</td>\n",
       "      <td>Kein Bund für's Leben (2007)</td>\n",
       "      <td>Comedy</td>\n",
       "    </tr>\n",
       "    <tr>\n",
       "      <th>27274</th>\n",
       "      <td>131256</td>\n",
       "      <td>Feuer, Eis &amp; Dosenbier (2002)</td>\n",
       "      <td>Comedy</td>\n",
       "    </tr>\n",
       "    <tr>\n",
       "      <th>27275</th>\n",
       "      <td>131258</td>\n",
       "      <td>The Pirates (2014)</td>\n",
       "      <td>Adventure</td>\n",
       "    </tr>\n",
       "    <tr>\n",
       "      <th>27276</th>\n",
       "      <td>131260</td>\n",
       "      <td>Rentun Ruusu (2001)</td>\n",
       "      <td>(no genres listed)</td>\n",
       "    </tr>\n",
       "    <tr>\n",
       "      <th>27277</th>\n",
       "      <td>131262</td>\n",
       "      <td>Innocence (2014)</td>\n",
       "      <td>Adventure|Fantasy|Horror</td>\n",
       "    </tr>\n",
       "  </tbody>\n",
       "</table>\n",
       "<p>27278 rows × 3 columns</p>\n",
       "</div>"
      ],
      "text/plain": [
       "       movieId                               title  \\\n",
       "0            1                    Toy Story (1995)   \n",
       "1            2                      Jumanji (1995)   \n",
       "2            3             Grumpier Old Men (1995)   \n",
       "3            4            Waiting to Exhale (1995)   \n",
       "4            5  Father of the Bride Part II (1995)   \n",
       "...        ...                                 ...   \n",
       "27273   131254        Kein Bund für's Leben (2007)   \n",
       "27274   131256       Feuer, Eis & Dosenbier (2002)   \n",
       "27275   131258                  The Pirates (2014)   \n",
       "27276   131260                 Rentun Ruusu (2001)   \n",
       "27277   131262                    Innocence (2014)   \n",
       "\n",
       "                                            genres  \n",
       "0      Adventure|Animation|Children|Comedy|Fantasy  \n",
       "1                       Adventure|Children|Fantasy  \n",
       "2                                   Comedy|Romance  \n",
       "3                             Comedy|Drama|Romance  \n",
       "4                                           Comedy  \n",
       "...                                            ...  \n",
       "27273                                       Comedy  \n",
       "27274                                       Comedy  \n",
       "27275                                    Adventure  \n",
       "27276                           (no genres listed)  \n",
       "27277                     Adventure|Fantasy|Horror  \n",
       "\n",
       "[27278 rows x 3 columns]"
      ]
     },
     "execution_count": 4,
     "metadata": {},
     "output_type": "execute_result"
    }
   ],
   "source": [
    "\n",
    "ratingsdata=ratingsdata.sample(n=5000000)\n",
    "moviesdata"
   ]
  },
  {
   "cell_type": "code",
   "execution_count": 5,
   "metadata": {
    "colab": {},
    "colab_type": "code",
    "id": "sLiHfE5UILDJ"
   },
   "outputs": [],
   "source": [
    "moviesdata['genres']=moviesdata['genres'].str.replace('|',' ')"
   ]
  },
  {
   "cell_type": "code",
   "execution_count": 6,
   "metadata": {
    "colab": {
     "base_uri": "https://localhost:8080/",
     "height": 34
    },
    "colab_type": "code",
    "id": "fydM9XhrILAi",
    "outputId": "25357e55-c47e-45ea-9e7f-ca9818faaace"
   },
   "outputs": [
    {
     "data": {
      "text/plain": [
       "27278"
      ]
     },
     "execution_count": 6,
     "metadata": {},
     "output_type": "execute_result"
    }
   ],
   "source": [
    "len(moviesdata.movieId.unique())"
   ]
  },
  {
   "cell_type": "code",
   "execution_count": 7,
   "metadata": {
    "colab": {},
    "colab_type": "code",
    "id": "8_MGkvp2IK-v"
   },
   "outputs": [
    {
     "data": {
      "text/html": [
       "<div>\n",
       "<style scoped>\n",
       "    .dataframe tbody tr th:only-of-type {\n",
       "        vertical-align: middle;\n",
       "    }\n",
       "\n",
       "    .dataframe tbody tr th {\n",
       "        vertical-align: top;\n",
       "    }\n",
       "\n",
       "    .dataframe thead th {\n",
       "        text-align: right;\n",
       "    }\n",
       "</style>\n",
       "<table border=\"1\" class=\"dataframe\">\n",
       "  <thead>\n",
       "    <tr style=\"text-align: right;\">\n",
       "      <th></th>\n",
       "      <th>userId</th>\n",
       "      <th>movieId</th>\n",
       "      <th>rating</th>\n",
       "      <th>timestamp</th>\n",
       "    </tr>\n",
       "  </thead>\n",
       "  <tbody>\n",
       "    <tr>\n",
       "      <th>12895665</th>\n",
       "      <td>89067</td>\n",
       "      <td>30820</td>\n",
       "      <td>5.0</td>\n",
       "      <td>2008-08-22 16:22:34</td>\n",
       "    </tr>\n",
       "    <tr>\n",
       "      <th>7038707</th>\n",
       "      <td>48536</td>\n",
       "      <td>2012</td>\n",
       "      <td>5.0</td>\n",
       "      <td>2001-09-02 13:45:41</td>\n",
       "    </tr>\n",
       "    <tr>\n",
       "      <th>5804694</th>\n",
       "      <td>39967</td>\n",
       "      <td>1967</td>\n",
       "      <td>3.0</td>\n",
       "      <td>2003-07-14 15:58:01</td>\n",
       "    </tr>\n",
       "    <tr>\n",
       "      <th>14522086</th>\n",
       "      <td>100358</td>\n",
       "      <td>1297</td>\n",
       "      <td>3.0</td>\n",
       "      <td>2012-10-23 02:44:46</td>\n",
       "    </tr>\n",
       "    <tr>\n",
       "      <th>16067277</th>\n",
       "      <td>111173</td>\n",
       "      <td>592</td>\n",
       "      <td>2.0</td>\n",
       "      <td>1996-07-19 16:01:04</td>\n",
       "    </tr>\n",
       "    <tr>\n",
       "      <th>...</th>\n",
       "      <td>...</td>\n",
       "      <td>...</td>\n",
       "      <td>...</td>\n",
       "      <td>...</td>\n",
       "    </tr>\n",
       "    <tr>\n",
       "      <th>13899899</th>\n",
       "      <td>96011</td>\n",
       "      <td>1777</td>\n",
       "      <td>3.0</td>\n",
       "      <td>2007-03-24 21:55:42</td>\n",
       "    </tr>\n",
       "    <tr>\n",
       "      <th>238455</th>\n",
       "      <td>1644</td>\n",
       "      <td>30749</td>\n",
       "      <td>3.5</td>\n",
       "      <td>2014-12-18 20:30:36</td>\n",
       "    </tr>\n",
       "    <tr>\n",
       "      <th>9078293</th>\n",
       "      <td>62800</td>\n",
       "      <td>1288</td>\n",
       "      <td>4.0</td>\n",
       "      <td>2008-08-25 15:12:32</td>\n",
       "    </tr>\n",
       "    <tr>\n",
       "      <th>2506298</th>\n",
       "      <td>16959</td>\n",
       "      <td>589</td>\n",
       "      <td>4.5</td>\n",
       "      <td>2005-07-20 01:13:09</td>\n",
       "    </tr>\n",
       "    <tr>\n",
       "      <th>7112822</th>\n",
       "      <td>49064</td>\n",
       "      <td>4306</td>\n",
       "      <td>4.0</td>\n",
       "      <td>2002-01-02 02:22:57</td>\n",
       "    </tr>\n",
       "  </tbody>\n",
       "</table>\n",
       "<p>5000000 rows × 4 columns</p>\n",
       "</div>"
      ],
      "text/plain": [
       "          userId  movieId  rating            timestamp\n",
       "12895665   89067    30820     5.0  2008-08-22 16:22:34\n",
       "7038707    48536     2012     5.0  2001-09-02 13:45:41\n",
       "5804694    39967     1967     3.0  2003-07-14 15:58:01\n",
       "14522086  100358     1297     3.0  2012-10-23 02:44:46\n",
       "16067277  111173      592     2.0  1996-07-19 16:01:04\n",
       "...          ...      ...     ...                  ...\n",
       "13899899   96011     1777     3.0  2007-03-24 21:55:42\n",
       "238455      1644    30749     3.5  2014-12-18 20:30:36\n",
       "9078293    62800     1288     4.0  2008-08-25 15:12:32\n",
       "2506298    16959      589     4.5  2005-07-20 01:13:09\n",
       "7112822    49064     4306     4.0  2002-01-02 02:22:57\n",
       "\n",
       "[5000000 rows x 4 columns]"
      ]
     },
     "execution_count": 7,
     "metadata": {},
     "output_type": "execute_result"
    }
   ],
   "source": [
    "ratingsdata"
   ]
  },
  {
   "cell_type": "code",
   "execution_count": 8,
   "metadata": {
    "colab": {},
    "colab_type": "code",
    "id": "ycWlhAcxIK7u"
   },
   "outputs": [],
   "source": [
    "#The rating data can be shrinked to consider only the users that have rated more than 30 movies.\n",
    "filtered_ratings=ratingsdata.groupby('userId').filter(lambda x:len(x)>= 30)\n",
    "#This allows the data to retain most of the movies while reducing the amount of users.\n",
    "mlr = filtered_ratings.movieId.unique().tolist()\n",
    "titlesremaining = len(filtered_ratings.movieId.unique())/len(moviesdata.movieId.unique()) * 100\n"
   ]
  },
  {
   "cell_type": "code",
   "execution_count": null,
   "metadata": {
    "colab": {},
    "colab_type": "code",
    "id": "xOdGNMQXIK5Y"
   },
   "outputs": [],
   "source": []
  },
  {
   "cell_type": "code",
   "execution_count": 9,
   "metadata": {
    "colab": {},
    "colab_type": "code",
    "id": "NEuwVR5GIaDr"
   },
   "outputs": [],
   "source": [
    "# we take only the unique movie titles that are also present in the new filtered data.\n",
    "moviesdata=moviesdata[moviesdata.movieId.isin(mlr)]"
   ]
  },
  {
   "cell_type": "code",
   "execution_count": 10,
   "metadata": {
    "colab": {
     "base_uri": "https://localhost:8080/",
     "height": 343
    },
    "colab_type": "code",
    "id": "fDetgaVRIaAN",
    "outputId": "a0eda025-8c3c-4cde-fb97-0883ed2689a7"
   },
   "outputs": [
    {
     "data": {
      "text/html": [
       "<div>\n",
       "<style scoped>\n",
       "    .dataframe tbody tr th:only-of-type {\n",
       "        vertical-align: middle;\n",
       "    }\n",
       "\n",
       "    .dataframe tbody tr th {\n",
       "        vertical-align: top;\n",
       "    }\n",
       "\n",
       "    .dataframe thead th {\n",
       "        text-align: right;\n",
       "    }\n",
       "</style>\n",
       "<table border=\"1\" class=\"dataframe\">\n",
       "  <thead>\n",
       "    <tr style=\"text-align: right;\">\n",
       "      <th></th>\n",
       "      <th>movieId</th>\n",
       "      <th>title</th>\n",
       "      <th>genres</th>\n",
       "    </tr>\n",
       "  </thead>\n",
       "  <tbody>\n",
       "    <tr>\n",
       "      <th>0</th>\n",
       "      <td>1</td>\n",
       "      <td>Toy Story (1995)</td>\n",
       "      <td>Adventure Animation Children Comedy Fantasy</td>\n",
       "    </tr>\n",
       "    <tr>\n",
       "      <th>1</th>\n",
       "      <td>2</td>\n",
       "      <td>Jumanji (1995)</td>\n",
       "      <td>Adventure Children Fantasy</td>\n",
       "    </tr>\n",
       "    <tr>\n",
       "      <th>2</th>\n",
       "      <td>3</td>\n",
       "      <td>Grumpier Old Men (1995)</td>\n",
       "      <td>Comedy Romance</td>\n",
       "    </tr>\n",
       "    <tr>\n",
       "      <th>3</th>\n",
       "      <td>4</td>\n",
       "      <td>Waiting to Exhale (1995)</td>\n",
       "      <td>Comedy Drama Romance</td>\n",
       "    </tr>\n",
       "    <tr>\n",
       "      <th>4</th>\n",
       "      <td>5</td>\n",
       "      <td>Father of the Bride Part II (1995)</td>\n",
       "      <td>Comedy</td>\n",
       "    </tr>\n",
       "    <tr>\n",
       "      <th>5</th>\n",
       "      <td>6</td>\n",
       "      <td>Heat (1995)</td>\n",
       "      <td>Action Crime Thriller</td>\n",
       "    </tr>\n",
       "    <tr>\n",
       "      <th>6</th>\n",
       "      <td>7</td>\n",
       "      <td>Sabrina (1995)</td>\n",
       "      <td>Comedy Romance</td>\n",
       "    </tr>\n",
       "    <tr>\n",
       "      <th>7</th>\n",
       "      <td>8</td>\n",
       "      <td>Tom and Huck (1995)</td>\n",
       "      <td>Adventure Children</td>\n",
       "    </tr>\n",
       "    <tr>\n",
       "      <th>8</th>\n",
       "      <td>9</td>\n",
       "      <td>Sudden Death (1995)</td>\n",
       "      <td>Action</td>\n",
       "    </tr>\n",
       "    <tr>\n",
       "      <th>9</th>\n",
       "      <td>10</td>\n",
       "      <td>GoldenEye (1995)</td>\n",
       "      <td>Action Adventure Thriller</td>\n",
       "    </tr>\n",
       "  </tbody>\n",
       "</table>\n",
       "</div>"
      ],
      "text/plain": [
       "   movieId                               title  \\\n",
       "0        1                    Toy Story (1995)   \n",
       "1        2                      Jumanji (1995)   \n",
       "2        3             Grumpier Old Men (1995)   \n",
       "3        4            Waiting to Exhale (1995)   \n",
       "4        5  Father of the Bride Part II (1995)   \n",
       "5        6                         Heat (1995)   \n",
       "6        7                      Sabrina (1995)   \n",
       "7        8                 Tom and Huck (1995)   \n",
       "8        9                 Sudden Death (1995)   \n",
       "9       10                    GoldenEye (1995)   \n",
       "\n",
       "                                        genres  \n",
       "0  Adventure Animation Children Comedy Fantasy  \n",
       "1                   Adventure Children Fantasy  \n",
       "2                               Comedy Romance  \n",
       "3                         Comedy Drama Romance  \n",
       "4                                       Comedy  \n",
       "5                        Action Crime Thriller  \n",
       "6                               Comedy Romance  \n",
       "7                           Adventure Children  \n",
       "8                                       Action  \n",
       "9                    Action Adventure Thriller  "
      ]
     },
     "execution_count": 10,
     "metadata": {},
     "output_type": "execute_result"
    }
   ],
   "source": [
    "moviesdata.head(10)\n",
    "# so now we have the genres without the | seperators"
   ]
  },
  {
   "cell_type": "code",
   "execution_count": 11,
   "metadata": {
    "colab": {},
    "colab_type": "code",
    "id": "aNzVoFujIZ-G"
   },
   "outputs": [],
   "source": [
    "Mapit = dict(zip(moviesdata.title.tolist(),moviesdata.movieId.tolist()))\n",
    "#create a dictionary for movie titles and id for fast lookup"
   ]
  },
  {
   "cell_type": "code",
   "execution_count": 12,
   "metadata": {
    "colab": {},
    "colab_type": "code",
    "id": "xBSIqSCSIZ7-"
   },
   "outputs": [],
   "source": [
    "#getting rid of timestamp column as it is not needed\n",
    "tagsdata.head\n",
    "tagsdata.drop(['timestamp'],1,inplace=True)\n",
    "filtered_ratings.drop(['timestamp'],1, inplace=True)"
   ]
  },
  {
   "cell_type": "code",
   "execution_count": 13,
   "metadata": {
    "colab": {
     "base_uri": "https://localhost:8080/",
     "height": 343
    },
    "colab_type": "code",
    "id": "GH1PprU7IZ5-",
    "outputId": "3a0a830b-7b4d-4cf3-993b-38e44f498bfc"
   },
   "outputs": [
    {
     "data": {
      "text/html": [
       "<div>\n",
       "<style scoped>\n",
       "    .dataframe tbody tr th:only-of-type {\n",
       "        vertical-align: middle;\n",
       "    }\n",
       "\n",
       "    .dataframe tbody tr th {\n",
       "        vertical-align: top;\n",
       "    }\n",
       "\n",
       "    .dataframe thead th {\n",
       "        text-align: right;\n",
       "    }\n",
       "</style>\n",
       "<table border=\"1\" class=\"dataframe\">\n",
       "  <thead>\n",
       "    <tr style=\"text-align: right;\">\n",
       "      <th></th>\n",
       "      <th>movieId</th>\n",
       "      <th>title</th>\n",
       "      <th>genres</th>\n",
       "      <th>userId</th>\n",
       "      <th>tag</th>\n",
       "    </tr>\n",
       "  </thead>\n",
       "  <tbody>\n",
       "    <tr>\n",
       "      <th>0</th>\n",
       "      <td>1</td>\n",
       "      <td>Toy Story (1995)</td>\n",
       "      <td>Adventure Animation Children Comedy Fantasy</td>\n",
       "      <td>1644.0</td>\n",
       "      <td>Watched</td>\n",
       "    </tr>\n",
       "    <tr>\n",
       "      <th>1</th>\n",
       "      <td>1</td>\n",
       "      <td>Toy Story (1995)</td>\n",
       "      <td>Adventure Animation Children Comedy Fantasy</td>\n",
       "      <td>1741.0</td>\n",
       "      <td>computer animation</td>\n",
       "    </tr>\n",
       "    <tr>\n",
       "      <th>2</th>\n",
       "      <td>1</td>\n",
       "      <td>Toy Story (1995)</td>\n",
       "      <td>Adventure Animation Children Comedy Fantasy</td>\n",
       "      <td>1741.0</td>\n",
       "      <td>Disney animated feature</td>\n",
       "    </tr>\n",
       "    <tr>\n",
       "      <th>3</th>\n",
       "      <td>1</td>\n",
       "      <td>Toy Story (1995)</td>\n",
       "      <td>Adventure Animation Children Comedy Fantasy</td>\n",
       "      <td>1741.0</td>\n",
       "      <td>Pixar animation</td>\n",
       "    </tr>\n",
       "    <tr>\n",
       "      <th>4</th>\n",
       "      <td>1</td>\n",
       "      <td>Toy Story (1995)</td>\n",
       "      <td>Adventure Animation Children Comedy Fantasy</td>\n",
       "      <td>1741.0</td>\n",
       "      <td>TÃ©a Leoni does not star in this movie</td>\n",
       "    </tr>\n",
       "    <tr>\n",
       "      <th>5</th>\n",
       "      <td>1</td>\n",
       "      <td>Toy Story (1995)</td>\n",
       "      <td>Adventure Animation Children Comedy Fantasy</td>\n",
       "      <td>2299.0</td>\n",
       "      <td>Pixar</td>\n",
       "    </tr>\n",
       "    <tr>\n",
       "      <th>6</th>\n",
       "      <td>1</td>\n",
       "      <td>Toy Story (1995)</td>\n",
       "      <td>Adventure Animation Children Comedy Fantasy</td>\n",
       "      <td>3596.0</td>\n",
       "      <td>animation</td>\n",
       "    </tr>\n",
       "    <tr>\n",
       "      <th>7</th>\n",
       "      <td>1</td>\n",
       "      <td>Toy Story (1995)</td>\n",
       "      <td>Adventure Animation Children Comedy Fantasy</td>\n",
       "      <td>3596.0</td>\n",
       "      <td>family</td>\n",
       "    </tr>\n",
       "    <tr>\n",
       "      <th>8</th>\n",
       "      <td>1</td>\n",
       "      <td>Toy Story (1995)</td>\n",
       "      <td>Adventure Animation Children Comedy Fantasy</td>\n",
       "      <td>3596.0</td>\n",
       "      <td>Tom Hanks</td>\n",
       "    </tr>\n",
       "    <tr>\n",
       "      <th>9</th>\n",
       "      <td>1</td>\n",
       "      <td>Toy Story (1995)</td>\n",
       "      <td>Adventure Animation Children Comedy Fantasy</td>\n",
       "      <td>6233.0</td>\n",
       "      <td>Pixar</td>\n",
       "    </tr>\n",
       "  </tbody>\n",
       "</table>\n",
       "</div>"
      ],
      "text/plain": [
       "   movieId             title                                       genres  \\\n",
       "0        1  Toy Story (1995)  Adventure Animation Children Comedy Fantasy   \n",
       "1        1  Toy Story (1995)  Adventure Animation Children Comedy Fantasy   \n",
       "2        1  Toy Story (1995)  Adventure Animation Children Comedy Fantasy   \n",
       "3        1  Toy Story (1995)  Adventure Animation Children Comedy Fantasy   \n",
       "4        1  Toy Story (1995)  Adventure Animation Children Comedy Fantasy   \n",
       "5        1  Toy Story (1995)  Adventure Animation Children Comedy Fantasy   \n",
       "6        1  Toy Story (1995)  Adventure Animation Children Comedy Fantasy   \n",
       "7        1  Toy Story (1995)  Adventure Animation Children Comedy Fantasy   \n",
       "8        1  Toy Story (1995)  Adventure Animation Children Comedy Fantasy   \n",
       "9        1  Toy Story (1995)  Adventure Animation Children Comedy Fantasy   \n",
       "\n",
       "   userId                                     tag  \n",
       "0  1644.0                                 Watched  \n",
       "1  1741.0                      computer animation  \n",
       "2  1741.0                 Disney animated feature  \n",
       "3  1741.0                         Pixar animation  \n",
       "4  1741.0  TÃ©a Leoni does not star in this movie  \n",
       "5  2299.0                                   Pixar  \n",
       "6  3596.0                               animation  \n",
       "7  3596.0                                  family  \n",
       "8  3596.0                               Tom Hanks  \n",
       "9  6233.0                                   Pixar  "
      ]
     },
     "execution_count": 13,
     "metadata": {},
     "output_type": "execute_result"
    }
   ],
   "source": [
    "#merging the dataframes to get consolidated dataset\n",
    "mxmat=pd.merge(moviesdata,tagsdata,on='movieId',how='left')\n",
    "mxmat.head(10)"
   ]
  },
  {
   "cell_type": "code",
   "execution_count": 14,
   "metadata": {
    "colab": {
     "base_uri": "https://localhost:8080/",
     "height": 343
    },
    "colab_type": "code",
    "id": "i4BX9-qAIZ3I",
    "outputId": "f94dc4e5-b585-4ddf-a539-49afb964bbed"
   },
   "outputs": [
    {
     "data": {
      "text/html": [
       "<div>\n",
       "<style scoped>\n",
       "    .dataframe tbody tr th:only-of-type {\n",
       "        vertical-align: middle;\n",
       "    }\n",
       "\n",
       "    .dataframe tbody tr th {\n",
       "        vertical-align: top;\n",
       "    }\n",
       "\n",
       "    .dataframe thead th {\n",
       "        text-align: right;\n",
       "    }\n",
       "</style>\n",
       "<table border=\"1\" class=\"dataframe\">\n",
       "  <thead>\n",
       "    <tr style=\"text-align: right;\">\n",
       "      <th></th>\n",
       "      <th>movieId</th>\n",
       "      <th>title</th>\n",
       "      <th>metdat</th>\n",
       "    </tr>\n",
       "  </thead>\n",
       "  <tbody>\n",
       "    <tr>\n",
       "      <th>0</th>\n",
       "      <td>1</td>\n",
       "      <td>Toy Story (1995)</td>\n",
       "      <td>Watched computer animation Disney animated fea...</td>\n",
       "    </tr>\n",
       "    <tr>\n",
       "      <th>1</th>\n",
       "      <td>2</td>\n",
       "      <td>Jumanji (1995)</td>\n",
       "      <td>time travel adapted from:book board game child...</td>\n",
       "    </tr>\n",
       "    <tr>\n",
       "      <th>2</th>\n",
       "      <td>3</td>\n",
       "      <td>Grumpier Old Men (1995)</td>\n",
       "      <td>old people that is actually funny sequel fever...</td>\n",
       "    </tr>\n",
       "    <tr>\n",
       "      <th>3</th>\n",
       "      <td>4</td>\n",
       "      <td>Waiting to Exhale (1995)</td>\n",
       "      <td>chick flick revenge characters chick flick cha...</td>\n",
       "    </tr>\n",
       "    <tr>\n",
       "      <th>4</th>\n",
       "      <td>5</td>\n",
       "      <td>Father of the Bride Part II (1995)</td>\n",
       "      <td>Diane Keaton family sequel Steve Martin weddin...</td>\n",
       "    </tr>\n",
       "    <tr>\n",
       "      <th>5</th>\n",
       "      <td>6</td>\n",
       "      <td>Heat (1995)</td>\n",
       "      <td>realistic action Al Pacino Michael Mann Robert...</td>\n",
       "    </tr>\n",
       "    <tr>\n",
       "      <th>6</th>\n",
       "      <td>7</td>\n",
       "      <td>Sabrina (1995)</td>\n",
       "      <td>Greg Kinnear romance remadeAs:Sabrina(1995) re...</td>\n",
       "    </tr>\n",
       "    <tr>\n",
       "      <th>7</th>\n",
       "      <td>8</td>\n",
       "      <td>Tom and Huck (1995)</td>\n",
       "      <td>adapted from:book author:Mark Twain Library Sy...</td>\n",
       "    </tr>\n",
       "    <tr>\n",
       "      <th>8</th>\n",
       "      <td>9</td>\n",
       "      <td>Sudden Death (1995)</td>\n",
       "      <td>action jean-claude van damme Peter Hyams Jean-...</td>\n",
       "    </tr>\n",
       "    <tr>\n",
       "      <th>9</th>\n",
       "      <td>10</td>\n",
       "      <td>GoldenEye (1995)</td>\n",
       "      <td>007 (series) assassin killer as protagonist mu...</td>\n",
       "    </tr>\n",
       "  </tbody>\n",
       "</table>\n",
       "</div>"
      ],
      "text/plain": [
       "   movieId                               title  \\\n",
       "0        1                    Toy Story (1995)   \n",
       "1        2                      Jumanji (1995)   \n",
       "2        3             Grumpier Old Men (1995)   \n",
       "3        4            Waiting to Exhale (1995)   \n",
       "4        5  Father of the Bride Part II (1995)   \n",
       "5        6                         Heat (1995)   \n",
       "6        7                      Sabrina (1995)   \n",
       "7        8                 Tom and Huck (1995)   \n",
       "8        9                 Sudden Death (1995)   \n",
       "9       10                    GoldenEye (1995)   \n",
       "\n",
       "                                              metdat  \n",
       "0  Watched computer animation Disney animated fea...  \n",
       "1  time travel adapted from:book board game child...  \n",
       "2  old people that is actually funny sequel fever...  \n",
       "3  chick flick revenge characters chick flick cha...  \n",
       "4  Diane Keaton family sequel Steve Martin weddin...  \n",
       "5  realistic action Al Pacino Michael Mann Robert...  \n",
       "6  Greg Kinnear romance remadeAs:Sabrina(1995) re...  \n",
       "7  adapted from:book author:Mark Twain Library Sy...  \n",
       "8  action jean-claude van damme Peter Hyams Jean-...  \n",
       "9  007 (series) assassin killer as protagonist mu...  "
      ]
     },
     "execution_count": 14,
     "metadata": {},
     "output_type": "execute_result"
    }
   ],
   "source": [
    "mxmat.fillna(\"\",inplace=True)\n",
    "mxmat = pd.DataFrame(mxmat.groupby('movieId')['tag'].apply(lambda x: \"%s\" % ' '.join(x)))\n",
    "finmat = pd.merge(moviesdata, mxmat, on='movieId', how='left')\n",
    "finmat ['metdat'] = finmat[['tag', 'genres']].apply(lambda x: ' '.join(x), axis=1)\n",
    "finmat[['movieId','title','metdat']].head(10)\n",
    "# combining tags and genres to generte data for content based recommendation later"
   ]
  },
  {
   "cell_type": "code",
   "execution_count": 15,
   "metadata": {
    "colab": {
     "base_uri": "https://localhost:8080/",
     "height": 50
    },
    "colab_type": "code",
    "id": "qA5NdESZIksa",
    "outputId": "edc5f09b-4b76-4274-b392-0acfba00aec2"
   },
   "outputs": [
    {
     "name": "stdout",
     "output_type": "stream",
     "text": [
      "Percentage of titles remaining in dataset out of original:\n",
      "77.05843536916196\n"
     ]
    }
   ],
   "source": [
    "print('Percentage of titles remaining in dataset out of original:')\n",
    "print(titlesremaining)\n",
    "termfrinvfr=TfidfVectorizer(stop_words='english')\n",
    "termfrinvfr_matrix=termfrinvfr.fit_transform(finmat['metdat'])\n",
    "termfrinvfr_df = pd.DataFrame(termfrinvfr_matrix.toarray(), index=finmat.index.tolist())\n",
    "# using stopwords from sklearn library to generate tf-idf matrix\n",
    "#print(termfrinvfr_df.shape)"
   ]
  },
  {
   "cell_type": "code",
   "execution_count": 16,
   "metadata": {
    "colab": {
     "base_uri": "https://localhost:8080/",
     "height": 34
    },
    "colab_type": "code",
    "id": "YqO4qkhsIkom",
    "outputId": "d3560c37-b790-4f96-ae33-a1cd0e688bb3"
   },
   "outputs": [
    {
     "data": {
      "text/plain": [
       "(21020, 200)"
      ]
     },
     "execution_count": 16,
     "metadata": {},
     "output_type": "execute_result"
    }
   ],
   "source": [
    "singularVD = TruncatedSVD(n_components=200)\n",
    "intermatgen = singularVD.fit_transform(termfrinvfr_matrix)\n",
    "n = 200 \n",
    "intermatgen_1_df = pd.DataFrame(intermatgen[:,0:n], index=finmat.title.tolist())\n",
    "intermatgen.shape"
   ]
  },
  {
   "cell_type": "code",
   "execution_count": 17,
   "metadata": {
    "colab": {
     "base_uri": "https://localhost:8080/",
     "height": 343
    },
    "colab_type": "code",
    "id": "hLpVOU5LIkeV",
    "outputId": "2f4b21a4-3cbe-472d-e51a-c51cf18be6cb"
   },
   "outputs": [
    {
     "data": {
      "text/html": [
       "<div>\n",
       "<style scoped>\n",
       "    .dataframe tbody tr th:only-of-type {\n",
       "        vertical-align: middle;\n",
       "    }\n",
       "\n",
       "    .dataframe tbody tr th {\n",
       "        vertical-align: top;\n",
       "    }\n",
       "\n",
       "    .dataframe thead th {\n",
       "        text-align: right;\n",
       "    }\n",
       "</style>\n",
       "<table border=\"1\" class=\"dataframe\">\n",
       "  <thead>\n",
       "    <tr style=\"text-align: right;\">\n",
       "      <th></th>\n",
       "      <th>userId</th>\n",
       "      <th>movieId</th>\n",
       "      <th>rating</th>\n",
       "    </tr>\n",
       "  </thead>\n",
       "  <tbody>\n",
       "    <tr>\n",
       "      <th>5804694</th>\n",
       "      <td>39967</td>\n",
       "      <td>1967</td>\n",
       "      <td>3.0</td>\n",
       "    </tr>\n",
       "    <tr>\n",
       "      <th>14522086</th>\n",
       "      <td>100358</td>\n",
       "      <td>1297</td>\n",
       "      <td>3.0</td>\n",
       "    </tr>\n",
       "    <tr>\n",
       "      <th>14948992</th>\n",
       "      <td>103244</td>\n",
       "      <td>1863</td>\n",
       "      <td>3.0</td>\n",
       "    </tr>\n",
       "    <tr>\n",
       "      <th>2301447</th>\n",
       "      <td>15612</td>\n",
       "      <td>3946</td>\n",
       "      <td>2.0</td>\n",
       "    </tr>\n",
       "    <tr>\n",
       "      <th>3109473</th>\n",
       "      <td>21185</td>\n",
       "      <td>1200</td>\n",
       "      <td>4.0</td>\n",
       "    </tr>\n",
       "    <tr>\n",
       "      <th>4938095</th>\n",
       "      <td>33985</td>\n",
       "      <td>2085</td>\n",
       "      <td>3.5</td>\n",
       "    </tr>\n",
       "    <tr>\n",
       "      <th>17477798</th>\n",
       "      <td>120890</td>\n",
       "      <td>3392</td>\n",
       "      <td>2.0</td>\n",
       "    </tr>\n",
       "    <tr>\n",
       "      <th>4851574</th>\n",
       "      <td>33349</td>\n",
       "      <td>1353</td>\n",
       "      <td>3.5</td>\n",
       "    </tr>\n",
       "    <tr>\n",
       "      <th>1962081</th>\n",
       "      <td>13296</td>\n",
       "      <td>4881</td>\n",
       "      <td>2.5</td>\n",
       "    </tr>\n",
       "    <tr>\n",
       "      <th>3946419</th>\n",
       "      <td>26888</td>\n",
       "      <td>44197</td>\n",
       "      <td>3.5</td>\n",
       "    </tr>\n",
       "  </tbody>\n",
       "</table>\n",
       "</div>"
      ],
      "text/plain": [
       "          userId  movieId  rating\n",
       "5804694    39967     1967     3.0\n",
       "14522086  100358     1297     3.0\n",
       "14948992  103244     1863     3.0\n",
       "2301447    15612     3946     2.0\n",
       "3109473    21185     1200     4.0\n",
       "4938095    33985     2085     3.5\n",
       "17477798  120890     3392     2.0\n",
       "4851574    33349     1353     3.5\n",
       "1962081    13296     4881     2.5\n",
       "3946419    26888    44197     3.5"
      ]
     },
     "execution_count": 17,
     "metadata": {},
     "output_type": "execute_result"
    }
   ],
   "source": [
    "filtered_ratings.head(10)"
   ]
  },
  {
   "cell_type": "code",
   "execution_count": 18,
   "metadata": {
    "colab": {},
    "colab_type": "code",
    "id": "9e8Pa4YOIy1x"
   },
   "outputs": [],
   "source": [
    "filtered_ratings1 = pd.merge(moviesdata[['movieId']], filtered_ratings, on=\"movieId\", how=\"right\")"
   ]
  },
  {
   "cell_type": "code",
   "execution_count": 19,
   "metadata": {
    "colab": {},
    "colab_type": "code",
    "id": "BAE-MTxyIyw7"
   },
   "outputs": [],
   "source": [
    "filtered_ratings1.head(10)\n",
    "filtered_ratings2=pd.pivot(filtered_ratings1,index = 'movieId', columns ='userId', values = 'rating').fillna(0)"
   ]
  },
  {
   "cell_type": "code",
   "execution_count": 20,
   "metadata": {
    "colab": {
     "base_uri": "https://localhost:8080/",
     "height": 422
    },
    "colab_type": "code",
    "id": "gOa0gruBGo0V",
    "outputId": "bfa6d44f-5ca1-4bc3-c49a-bba70bbe6e7b"
   },
   "outputs": [
    {
     "data": {
      "text/html": [
       "<div>\n",
       "<style scoped>\n",
       "    .dataframe tbody tr th:only-of-type {\n",
       "        vertical-align: middle;\n",
       "    }\n",
       "\n",
       "    .dataframe tbody tr th {\n",
       "        vertical-align: top;\n",
       "    }\n",
       "\n",
       "    .dataframe thead th {\n",
       "        text-align: right;\n",
       "    }\n",
       "</style>\n",
       "<table border=\"1\" class=\"dataframe\">\n",
       "  <thead>\n",
       "    <tr style=\"text-align: right;\">\n",
       "      <th>userId</th>\n",
       "      <th>1</th>\n",
       "      <th>3</th>\n",
       "      <th>7</th>\n",
       "      <th>11</th>\n",
       "      <th>14</th>\n",
       "      <th>18</th>\n",
       "      <th>21</th>\n",
       "      <th>22</th>\n",
       "      <th>24</th>\n",
       "      <th>29</th>\n",
       "      <th>...</th>\n",
       "      <th>138467</th>\n",
       "      <th>138472</th>\n",
       "      <th>138474</th>\n",
       "      <th>138475</th>\n",
       "      <th>138477</th>\n",
       "      <th>138483</th>\n",
       "      <th>138484</th>\n",
       "      <th>138486</th>\n",
       "      <th>138490</th>\n",
       "      <th>138493</th>\n",
       "    </tr>\n",
       "    <tr>\n",
       "      <th>movieId</th>\n",
       "      <th></th>\n",
       "      <th></th>\n",
       "      <th></th>\n",
       "      <th></th>\n",
       "      <th></th>\n",
       "      <th></th>\n",
       "      <th></th>\n",
       "      <th></th>\n",
       "      <th></th>\n",
       "      <th></th>\n",
       "      <th></th>\n",
       "      <th></th>\n",
       "      <th></th>\n",
       "      <th></th>\n",
       "      <th></th>\n",
       "      <th></th>\n",
       "      <th></th>\n",
       "      <th></th>\n",
       "      <th></th>\n",
       "      <th></th>\n",
       "      <th></th>\n",
       "    </tr>\n",
       "  </thead>\n",
       "  <tbody>\n",
       "    <tr>\n",
       "      <th>1</th>\n",
       "      <td>0.0</td>\n",
       "      <td>0.0</td>\n",
       "      <td>0.0</td>\n",
       "      <td>0.0</td>\n",
       "      <td>4.5</td>\n",
       "      <td>0.0</td>\n",
       "      <td>0.0</td>\n",
       "      <td>0.0</td>\n",
       "      <td>0.0</td>\n",
       "      <td>0.0</td>\n",
       "      <td>...</td>\n",
       "      <td>0.0</td>\n",
       "      <td>0.0</td>\n",
       "      <td>0.0</td>\n",
       "      <td>0.0</td>\n",
       "      <td>0.0</td>\n",
       "      <td>0.0</td>\n",
       "      <td>0.0</td>\n",
       "      <td>0.0</td>\n",
       "      <td>0.0</td>\n",
       "      <td>3.5</td>\n",
       "    </tr>\n",
       "    <tr>\n",
       "      <th>2</th>\n",
       "      <td>0.0</td>\n",
       "      <td>0.0</td>\n",
       "      <td>0.0</td>\n",
       "      <td>0.0</td>\n",
       "      <td>0.0</td>\n",
       "      <td>0.0</td>\n",
       "      <td>0.0</td>\n",
       "      <td>0.0</td>\n",
       "      <td>0.0</td>\n",
       "      <td>0.0</td>\n",
       "      <td>...</td>\n",
       "      <td>0.0</td>\n",
       "      <td>0.0</td>\n",
       "      <td>4.0</td>\n",
       "      <td>0.0</td>\n",
       "      <td>0.0</td>\n",
       "      <td>0.0</td>\n",
       "      <td>3.0</td>\n",
       "      <td>0.0</td>\n",
       "      <td>0.0</td>\n",
       "      <td>0.0</td>\n",
       "    </tr>\n",
       "    <tr>\n",
       "      <th>3</th>\n",
       "      <td>0.0</td>\n",
       "      <td>0.0</td>\n",
       "      <td>0.0</td>\n",
       "      <td>0.0</td>\n",
       "      <td>0.0</td>\n",
       "      <td>0.0</td>\n",
       "      <td>0.0</td>\n",
       "      <td>0.0</td>\n",
       "      <td>0.0</td>\n",
       "      <td>0.0</td>\n",
       "      <td>...</td>\n",
       "      <td>2.0</td>\n",
       "      <td>0.0</td>\n",
       "      <td>0.0</td>\n",
       "      <td>0.0</td>\n",
       "      <td>0.0</td>\n",
       "      <td>0.0</td>\n",
       "      <td>0.0</td>\n",
       "      <td>0.0</td>\n",
       "      <td>0.0</td>\n",
       "      <td>0.0</td>\n",
       "    </tr>\n",
       "    <tr>\n",
       "      <th>4</th>\n",
       "      <td>0.0</td>\n",
       "      <td>0.0</td>\n",
       "      <td>0.0</td>\n",
       "      <td>0.0</td>\n",
       "      <td>0.0</td>\n",
       "      <td>0.0</td>\n",
       "      <td>0.0</td>\n",
       "      <td>0.0</td>\n",
       "      <td>0.0</td>\n",
       "      <td>0.0</td>\n",
       "      <td>...</td>\n",
       "      <td>0.0</td>\n",
       "      <td>0.0</td>\n",
       "      <td>0.0</td>\n",
       "      <td>0.0</td>\n",
       "      <td>0.0</td>\n",
       "      <td>0.0</td>\n",
       "      <td>0.0</td>\n",
       "      <td>0.0</td>\n",
       "      <td>0.0</td>\n",
       "      <td>0.0</td>\n",
       "    </tr>\n",
       "    <tr>\n",
       "      <th>5</th>\n",
       "      <td>0.0</td>\n",
       "      <td>0.0</td>\n",
       "      <td>0.0</td>\n",
       "      <td>0.0</td>\n",
       "      <td>0.0</td>\n",
       "      <td>0.0</td>\n",
       "      <td>0.0</td>\n",
       "      <td>0.0</td>\n",
       "      <td>2.0</td>\n",
       "      <td>0.0</td>\n",
       "      <td>...</td>\n",
       "      <td>0.0</td>\n",
       "      <td>0.0</td>\n",
       "      <td>0.0</td>\n",
       "      <td>0.0</td>\n",
       "      <td>0.0</td>\n",
       "      <td>0.0</td>\n",
       "      <td>0.0</td>\n",
       "      <td>0.0</td>\n",
       "      <td>0.0</td>\n",
       "      <td>0.0</td>\n",
       "    </tr>\n",
       "    <tr>\n",
       "      <th>6</th>\n",
       "      <td>0.0</td>\n",
       "      <td>0.0</td>\n",
       "      <td>0.0</td>\n",
       "      <td>0.0</td>\n",
       "      <td>0.0</td>\n",
       "      <td>0.0</td>\n",
       "      <td>0.0</td>\n",
       "      <td>0.0</td>\n",
       "      <td>0.0</td>\n",
       "      <td>0.0</td>\n",
       "      <td>...</td>\n",
       "      <td>0.0</td>\n",
       "      <td>0.0</td>\n",
       "      <td>0.0</td>\n",
       "      <td>0.0</td>\n",
       "      <td>0.0</td>\n",
       "      <td>0.0</td>\n",
       "      <td>0.0</td>\n",
       "      <td>0.0</td>\n",
       "      <td>0.0</td>\n",
       "      <td>0.0</td>\n",
       "    </tr>\n",
       "    <tr>\n",
       "      <th>7</th>\n",
       "      <td>0.0</td>\n",
       "      <td>0.0</td>\n",
       "      <td>0.0</td>\n",
       "      <td>0.0</td>\n",
       "      <td>0.0</td>\n",
       "      <td>0.0</td>\n",
       "      <td>0.0</td>\n",
       "      <td>0.0</td>\n",
       "      <td>0.0</td>\n",
       "      <td>0.0</td>\n",
       "      <td>...</td>\n",
       "      <td>0.0</td>\n",
       "      <td>0.0</td>\n",
       "      <td>0.0</td>\n",
       "      <td>0.0</td>\n",
       "      <td>0.0</td>\n",
       "      <td>0.0</td>\n",
       "      <td>0.0</td>\n",
       "      <td>0.0</td>\n",
       "      <td>0.0</td>\n",
       "      <td>0.0</td>\n",
       "    </tr>\n",
       "    <tr>\n",
       "      <th>8</th>\n",
       "      <td>0.0</td>\n",
       "      <td>0.0</td>\n",
       "      <td>0.0</td>\n",
       "      <td>0.0</td>\n",
       "      <td>0.0</td>\n",
       "      <td>0.0</td>\n",
       "      <td>0.0</td>\n",
       "      <td>0.0</td>\n",
       "      <td>0.0</td>\n",
       "      <td>0.0</td>\n",
       "      <td>...</td>\n",
       "      <td>0.0</td>\n",
       "      <td>0.0</td>\n",
       "      <td>0.0</td>\n",
       "      <td>0.0</td>\n",
       "      <td>0.0</td>\n",
       "      <td>0.0</td>\n",
       "      <td>0.0</td>\n",
       "      <td>0.0</td>\n",
       "      <td>0.0</td>\n",
       "      <td>0.0</td>\n",
       "    </tr>\n",
       "    <tr>\n",
       "      <th>9</th>\n",
       "      <td>0.0</td>\n",
       "      <td>0.0</td>\n",
       "      <td>0.0</td>\n",
       "      <td>0.0</td>\n",
       "      <td>0.0</td>\n",
       "      <td>0.0</td>\n",
       "      <td>0.0</td>\n",
       "      <td>0.0</td>\n",
       "      <td>0.0</td>\n",
       "      <td>0.0</td>\n",
       "      <td>...</td>\n",
       "      <td>0.0</td>\n",
       "      <td>0.0</td>\n",
       "      <td>0.0</td>\n",
       "      <td>0.0</td>\n",
       "      <td>0.0</td>\n",
       "      <td>0.0</td>\n",
       "      <td>0.0</td>\n",
       "      <td>0.0</td>\n",
       "      <td>0.0</td>\n",
       "      <td>0.0</td>\n",
       "    </tr>\n",
       "    <tr>\n",
       "      <th>10</th>\n",
       "      <td>0.0</td>\n",
       "      <td>0.0</td>\n",
       "      <td>0.0</td>\n",
       "      <td>2.5</td>\n",
       "      <td>0.0</td>\n",
       "      <td>0.0</td>\n",
       "      <td>0.0</td>\n",
       "      <td>0.0</td>\n",
       "      <td>0.0</td>\n",
       "      <td>0.0</td>\n",
       "      <td>...</td>\n",
       "      <td>0.0</td>\n",
       "      <td>0.0</td>\n",
       "      <td>0.0</td>\n",
       "      <td>0.0</td>\n",
       "      <td>0.0</td>\n",
       "      <td>3.0</td>\n",
       "      <td>3.0</td>\n",
       "      <td>0.0</td>\n",
       "      <td>0.0</td>\n",
       "      <td>0.0</td>\n",
       "    </tr>\n",
       "  </tbody>\n",
       "</table>\n",
       "<p>10 rows × 44956 columns</p>\n",
       "</div>"
      ],
      "text/plain": [
       "userId   1       3       7       11      14      18      21      22      \\\n",
       "movieId                                                                   \n",
       "1           0.0     0.0     0.0     0.0     4.5     0.0     0.0     0.0   \n",
       "2           0.0     0.0     0.0     0.0     0.0     0.0     0.0     0.0   \n",
       "3           0.0     0.0     0.0     0.0     0.0     0.0     0.0     0.0   \n",
       "4           0.0     0.0     0.0     0.0     0.0     0.0     0.0     0.0   \n",
       "5           0.0     0.0     0.0     0.0     0.0     0.0     0.0     0.0   \n",
       "6           0.0     0.0     0.0     0.0     0.0     0.0     0.0     0.0   \n",
       "7           0.0     0.0     0.0     0.0     0.0     0.0     0.0     0.0   \n",
       "8           0.0     0.0     0.0     0.0     0.0     0.0     0.0     0.0   \n",
       "9           0.0     0.0     0.0     0.0     0.0     0.0     0.0     0.0   \n",
       "10          0.0     0.0     0.0     2.5     0.0     0.0     0.0     0.0   \n",
       "\n",
       "userId   24      29      ...  138467  138472  138474  138475  138477  138483  \\\n",
       "movieId                  ...                                                   \n",
       "1           0.0     0.0  ...     0.0     0.0     0.0     0.0     0.0     0.0   \n",
       "2           0.0     0.0  ...     0.0     0.0     4.0     0.0     0.0     0.0   \n",
       "3           0.0     0.0  ...     2.0     0.0     0.0     0.0     0.0     0.0   \n",
       "4           0.0     0.0  ...     0.0     0.0     0.0     0.0     0.0     0.0   \n",
       "5           2.0     0.0  ...     0.0     0.0     0.0     0.0     0.0     0.0   \n",
       "6           0.0     0.0  ...     0.0     0.0     0.0     0.0     0.0     0.0   \n",
       "7           0.0     0.0  ...     0.0     0.0     0.0     0.0     0.0     0.0   \n",
       "8           0.0     0.0  ...     0.0     0.0     0.0     0.0     0.0     0.0   \n",
       "9           0.0     0.0  ...     0.0     0.0     0.0     0.0     0.0     0.0   \n",
       "10          0.0     0.0  ...     0.0     0.0     0.0     0.0     0.0     3.0   \n",
       "\n",
       "userId   138484  138486  138490  138493  \n",
       "movieId                                  \n",
       "1           0.0     0.0     0.0     3.5  \n",
       "2           3.0     0.0     0.0     0.0  \n",
       "3           0.0     0.0     0.0     0.0  \n",
       "4           0.0     0.0     0.0     0.0  \n",
       "5           0.0     0.0     0.0     0.0  \n",
       "6           0.0     0.0     0.0     0.0  \n",
       "7           0.0     0.0     0.0     0.0  \n",
       "8           0.0     0.0     0.0     0.0  \n",
       "9           0.0     0.0     0.0     0.0  \n",
       "10          3.0     0.0     0.0     0.0  \n",
       "\n",
       "[10 rows x 44956 columns]"
      ]
     },
     "execution_count": 20,
     "metadata": {},
     "output_type": "execute_result"
    }
   ],
   "source": [
    "filtered_ratings2.head(10)"
   ]
  },
  {
   "cell_type": "markdown",
   "metadata": {
    "colab_type": "text",
    "id": "TcakPUn4KM4d"
   },
   "source": [
    "<h1>Module 2: Hybrid Recommendations</h1>"
   ]
  },
  {
   "cell_type": "code",
   "execution_count": null,
   "metadata": {
    "colab": {},
    "colab_type": "code",
    "id": "bARgTMykIyux"
   },
   "outputs": [],
   "source": []
  },
  {
   "cell_type": "code",
   "execution_count": null,
   "metadata": {
    "colab": {},
    "colab_type": "code",
    "id": "Ze9dfM-tIysx"
   },
   "outputs": [],
   "source": []
  },
  {
   "cell_type": "code",
   "execution_count": 21,
   "metadata": {
    "colab": {
     "base_uri": "https://localhost:8080/",
     "height": 34
    },
    "colab_type": "code",
    "id": "Hdsk_6ZtIyqj",
    "outputId": "22345a61-322e-4145-f6e5-ba5e7c7d7d0b"
   },
   "outputs": [
    {
     "data": {
      "text/plain": [
       "21020"
      ]
     },
     "execution_count": 21,
     "metadata": {},
     "output_type": "execute_result"
    }
   ],
   "source": [
    "len(filtered_ratings.movieId.unique())"
   ]
  },
  {
   "cell_type": "code",
   "execution_count": 22,
   "metadata": {
    "colab": {},
    "colab_type": "code",
    "id": "mIHY1DYwI9K1"
   },
   "outputs": [],
   "source": [
    "singularVD = TruncatedSVD(n_components=200)\n",
    "intermatgensec = singularVD.fit_transform(filtered_ratings2)\n",
    "intermatgensecdata = pd.DataFrame(intermatgensec, index=finmat.title.tolist())"
   ]
  },
  {
   "cell_type": "code",
   "execution_count": 23,
   "metadata": {
    "colab": {
     "base_uri": "https://localhost:8080/",
     "height": 281
    },
    "colab_type": "code",
    "id": "dZB9or5nI9G6",
    "outputId": "24784c4c-dbce-46f5-ff63-cf72cffdf829"
   },
   "outputs": [
    {
     "data": {
      "image/png": "[encoded data removed]",
      "text/plain": [
       "<Figure size 432x288 with 1 Axes>"
      ]
     },
     "metadata": {
      "needs_background": "light"
     },
     "output_type": "display_data"
    }
   ],
   "source": [
    "explotter = singularVD.explained_variance_ratio_.cumsum()\n",
    "plt.plot(explotter,'-', ms = 16, color='blue')\n",
    "plt.xlabel('components', fontsize= 10)\n",
    "plt.ylabel('amount of var', fontsize=10)        \n",
    "plt.show()"
   ]
  },
  {
   "cell_type": "code",
   "execution_count": 24,
   "metadata": {
    "colab": {},
    "colab_type": "code",
    "id": "o56xMHyVI9E4"
   },
   "outputs": [],
   "source": [
    "simmovie_1= np.array(intermatgen_1_df.loc['Toy Story (1995)']).reshape(1, -1)\n",
    "simmovie_2 = np.array(intermatgensecdata.loc['Toy Story (1995)']).reshape(1, -1)\n",
    "conscore = cosine_similarity(intermatgen_1_df, simmovie_1).reshape(-1)\n",
    "collabscore = cosine_similarity(intermatgensecdata, simmovie_2).reshape(-1)\n",
    "hybridsim = ((conscore + collabscore)/2.0)\n",
    "simdic = {'content': conscore , 'collaborative': collabscore, 'hybrid': hybridsim} \n",
    "simdf = pd.DataFrame(simdic, index = intermatgen_1_df.index )\n",
    "simdf.sort_values('content', ascending=False, inplace=True)\n",
    "#simdf[1:].head(10)"
   ]
  },
  {
   "cell_type": "code",
   "execution_count": 25,
   "metadata": {
    "colab": {
     "base_uri": "https://localhost:8080/",
     "height": 202
    },
    "colab_type": "code",
    "id": "BwGGPkaPI9Cu",
    "outputId": "e2801b7d-bbdd-4afe-d42f-9b62fb2e8f5e"
   },
   "outputs": [
    {
     "data": {
      "text/plain": [
       "Toy Story (1995)              1.000000\n",
       "Toy Story 2 (1999)            0.963945\n",
       "Bug's Life, A (1998)          0.912933\n",
       "Ratatouille (2007)            0.902560\n",
       "Monsters, Inc. (2001)         0.891622\n",
       "Ice Age (2002)                0.881773\n",
       "Finding Nemo (2003)           0.876598\n",
       "Toy Story 3 (2010)            0.871719\n",
       "Monsters University (2013)    0.804264\n",
       "Incredibles, The (2004)       0.803751\n",
       "Name: content, dtype: float64"
      ]
     },
     "execution_count": 25,
     "metadata": {},
     "output_type": "execute_result"
    }
   ],
   "source": [
    "simdf[0:].content.head(10)"
   ]
  },
  {
   "cell_type": "code",
   "execution_count": 26,
   "metadata": {
    "colab": {
     "base_uri": "https://localhost:8080/",
     "height": 202
    },
    "colab_type": "code",
    "id": "3CEZFtAOI8_3",
    "outputId": "47e3531d-e9e4-45de-8bce-07721880089c"
   },
   "outputs": [
    {
     "data": {
      "text/plain": [
       "Toy Story (1995)              1.000000\n",
       "Toy Story 2 (1999)            0.177574\n",
       "Bug's Life, A (1998)          0.177603\n",
       "Ratatouille (2007)            0.254035\n",
       "Monsters, Inc. (2001)         0.160794\n",
       "Ice Age (2002)                0.288134\n",
       "Finding Nemo (2003)           0.152714\n",
       "Toy Story 3 (2010)            0.241810\n",
       "Monsters University (2013)    0.146427\n",
       "Incredibles, The (2004)       0.146596\n",
       "Name: collaborative, dtype: float64"
      ]
     },
     "execution_count": 26,
     "metadata": {},
     "output_type": "execute_result"
    }
   ],
   "source": [
    "simdf[0:].collaborative.head(10)"
   ]
  },
  {
   "cell_type": "code",
   "execution_count": 27,
   "metadata": {
    "colab": {
     "base_uri": "https://localhost:8080/",
     "height": 202
    },
    "colab_type": "code",
    "id": "NPx_iNTKIync",
    "outputId": "ea314b05-924b-473c-b2c3-9ecdb8c5c36c"
   },
   "outputs": [
    {
     "data": {
      "text/plain": [
       "Toy Story (1995)              1.000000\n",
       "Toy Story 2 (1999)            0.570759\n",
       "Bug's Life, A (1998)          0.545268\n",
       "Ratatouille (2007)            0.578298\n",
       "Monsters, Inc. (2001)         0.526208\n",
       "Ice Age (2002)                0.584953\n",
       "Finding Nemo (2003)           0.514656\n",
       "Toy Story 3 (2010)            0.556764\n",
       "Monsters University (2013)    0.475346\n",
       "Incredibles, The (2004)       0.475174\n",
       "Name: hybrid, dtype: float64"
      ]
     },
     "execution_count": 27,
     "metadata": {},
     "output_type": "execute_result"
    }
   ],
   "source": [
    "simdf[0:].hybrid.head(10)"
   ]
  },
  {
   "cell_type": "code",
   "execution_count": null,
   "metadata": {
    "colab": {},
    "colab_type": "code",
    "id": "11CmdQO9Ikbz"
   },
   "outputs": [],
   "source": []
  },
  {
   "cell_type": "markdown",
   "metadata": {
    "colab_type": "text",
    "id": "XN7ScFVd96Yq"
   },
   "source": []
  },
  {
   "cell_type": "markdown",
   "metadata": {
    "colab_type": "text",
    "id": "02ioSye999MZ"
   },
   "source": []
  },
  {
   "cell_type": "markdown",
   "metadata": {
    "colab_type": "text",
    "id": "QKdWf6Rc-EiW"
   },
   "source": [
    "<h1>Final Module:</h1>"
   ]
  },
  {
   "cell_type": "code",
   "execution_count": 28,
   "metadata": {
    "colab": {},
    "colab_type": "code",
    "id": "nBc0_7x6YR2r"
   },
   "outputs": [],
   "source": [
    "def showprecrec(predrat, k=10, threshold=3.5):\n",
    "    uet = defaultdict(list)\n",
    "    for uid, _, true_r, est, _ in predrat:\n",
    "        uet[uid].append((est, true_r))\n",
    "    precc = dict()\n",
    "    recc = dict()\n",
    "    for uid, urats in uet.items():\n",
    "        urats.sort(key=lambda x: x[0], reverse=True)\n",
    "        n_rel = sum((true_r >= threshold) for (_, true_r) in urats)\n",
    "        n_rec_k = sum((est >= threshold) for (est, _) in urats[:k])\n",
    "        n_rel_and_rec_k = sum(((true_r >= threshold) and (est >= threshold))\n",
    "                              for (est, true_r) in urats[:k])\n",
    "        precc[uid] = n_rel_and_rec_k / n_rec_k if n_rec_k != 0 else 1\n",
    "        recc[uid] = n_rel_and_rec_k / n_rel if n_rel != 0 else 1\n",
    "    return precc, recc"
   ]
  },
  {
   "cell_type": "code",
   "execution_count": 29,
   "metadata": {
    "colab": {
     "base_uri": "https://localhost:8080/",
     "height": 269
    },
    "colab_type": "code",
    "id": "DyeOXW5LYRzF",
    "outputId": "96e75816-6a15-4e38-ae9b-d41605b614df"
   },
   "outputs": [
    {
     "name": "stdout",
     "output_type": "stream",
     "text": [
      "RMSE: 0.8415\n",
      "0.8414535824041421\n"
     ]
    },
    {
     "data": {
      "text/plain": [
       "\"for trainset, testset in kf.split(data):\\n    algo.fit(trainset)\\n    predrat = algo.test(testset)\\n    precc, recc = showprecrec(predrat, k=5, threshold=4)\\n    print('precision and recall at k')\\n    print(sum(prec for prec in precc.values()) / len(precc))\\n    print(sum(rec for rec in recc.values()) / len(recc))\\n    print(accuracy.rmse(predrat, verbose=True))\""
      ]
     },
     "execution_count": 29,
     "metadata": {},
     "output_type": "execute_result"
    }
   ],
   "source": [
    "reader = Reader(rating_scale=(1, 5))\n",
    "data = Dataset.load_from_df(filtered_ratings[['userId','movieId','rating']], reader)\n",
    "trainset, testset = train_test_split(data, test_size=.25)\n",
    "algo = SVD()\n",
    "algo.fit(trainset)\n",
    "predrat = algo.test(testset)\n",
    "print(accuracy.rmse(predrat, verbose=True)) # rmse \n",
    "# can calculate better accuracy[precsion and recall bhi calculate] by using K fold shaayd but then hit ratio 83 tha  idk :(((\n",
    "# time will inccrrease to about 10 min but :)v\n",
    "#kf = KFold(n_splits=5)\n",
    "'''for trainset, testset in kf.split(data):\n",
    "    algo.fit(trainset)\n",
    "    predrat = algo.test(testset)\n",
    "    precc, recc = showprecrec(predrat, k=5, threshold=4)\n",
    "    print('precision and recall at k')\n",
    "    print(sum(prec for prec in precc.values()) / len(precc))\n",
    "    print(sum(rec for rec in recc.values()) / len(recc))\n",
    "    print(accuracy.rmse(predrat, verbose=True))'''\n",
    "    "
   ]
  },
  {
   "cell_type": "code",
   "execution_count": 30,
   "metadata": {
    "colab": {},
    "colab_type": "code",
    "id": "pYahyCw4-Iyj"
   },
   "outputs": [],
   "source": [
    "def recommovie(ui):\n",
    "    if ui in filtered_ratings.userId.unique():\n",
    "        listforuser = filtered_ratings[filtered_ratings.userId == ui].movieId.tolist()\n",
    "        d = {k: v for k,v in Mapit.items() if not v in listforuser}        \n",
    "        predlus = []\n",
    "        for i, j in d.items():     \n",
    "            predic = algo.predict(ui, j)\n",
    "            predlus.append((i, predic[3])) \n",
    "        predf = pd.DataFrame(predlus, columns = ['movies', 'ratings'])\n",
    "        predf.sort_values('ratings', ascending=False, inplace=True)  \n",
    "        predf.set_index('movies', inplace=True) \n",
    "        return predf.head(10)        \n",
    "    else:\n",
    "        print(\"Does not exist\")\n",
    "        return None"
   ]
  },
  {
   "cell_type": "code",
   "execution_count": 31,
   "metadata": {
    "colab": {
     "base_uri": "https://localhost:8080/",
     "height": 373
    },
    "colab_type": "code",
    "id": "UPH5UdfiYOIf",
    "outputId": "8a17bb7b-4f72-4f97-bc23-5d41770f424a"
   },
   "outputs": [
    {
     "data": {
      "text/html": [
       "<div>\n",
       "<style scoped>\n",
       "    .dataframe tbody tr th:only-of-type {\n",
       "        vertical-align: middle;\n",
       "    }\n",
       "\n",
       "    .dataframe tbody tr th {\n",
       "        vertical-align: top;\n",
       "    }\n",
       "\n",
       "    .dataframe thead th {\n",
       "        text-align: right;\n",
       "    }\n",
       "</style>\n",
       "<table border=\"1\" class=\"dataframe\">\n",
       "  <thead>\n",
       "    <tr style=\"text-align: right;\">\n",
       "      <th></th>\n",
       "      <th>ratings</th>\n",
       "    </tr>\n",
       "    <tr>\n",
       "      <th>movies</th>\n",
       "      <th></th>\n",
       "    </tr>\n",
       "  </thead>\n",
       "  <tbody>\n",
       "    <tr>\n",
       "      <th>Clockwork Orange, A (1971)</th>\n",
       "      <td>4.920828</td>\n",
       "    </tr>\n",
       "    <tr>\n",
       "      <th>This Is Spinal Tap (1984)</th>\n",
       "      <td>4.849593</td>\n",
       "    </tr>\n",
       "    <tr>\n",
       "      <th>Eternal Sunshine of the Spotless Mind (2004)</th>\n",
       "      <td>4.812872</td>\n",
       "    </tr>\n",
       "    <tr>\n",
       "      <th>Apocalypse Now (1979)</th>\n",
       "      <td>4.800879</td>\n",
       "    </tr>\n",
       "    <tr>\n",
       "      <th>Adaptation (2002)</th>\n",
       "      <td>4.790083</td>\n",
       "    </tr>\n",
       "    <tr>\n",
       "      <th>Streetcar Named Desire, A (1951)</th>\n",
       "      <td>4.785025</td>\n",
       "    </tr>\n",
       "    <tr>\n",
       "      <th>Casablanca (1942)</th>\n",
       "      <td>4.779612</td>\n",
       "    </tr>\n",
       "    <tr>\n",
       "      <th>2001: A Space Odyssey (1968)</th>\n",
       "      <td>4.775551</td>\n",
       "    </tr>\n",
       "    <tr>\n",
       "      <th>Chinatown (1974)</th>\n",
       "      <td>4.761315</td>\n",
       "    </tr>\n",
       "    <tr>\n",
       "      <th>Deer Hunter, The (1978)</th>\n",
       "      <td>4.728621</td>\n",
       "    </tr>\n",
       "  </tbody>\n",
       "</table>\n",
       "</div>"
      ],
      "text/plain": [
       "                                               ratings\n",
       "movies                                                \n",
       "Clockwork Orange, A (1971)                    4.920828\n",
       "This Is Spinal Tap (1984)                     4.849593\n",
       "Eternal Sunshine of the Spotless Mind (2004)  4.812872\n",
       "Apocalypse Now (1979)                         4.800879\n",
       "Adaptation (2002)                             4.790083\n",
       "Streetcar Named Desire, A (1951)              4.785025\n",
       "Casablanca (1942)                             4.779612\n",
       "2001: A Space Odyssey (1968)                  4.775551\n",
       "Chinatown (1974)                              4.761315\n",
       "Deer Hunter, The (1978)                       4.728621"
      ]
     },
     "execution_count": 31,
     "metadata": {},
     "output_type": "execute_result"
    }
   ],
   "source": [
    "recommovie(21496)"
   ]
  },
  {
   "cell_type": "code",
   "execution_count": 32,
   "metadata": {
    "colab": {},
    "colab_type": "code",
    "id": "mTF_SsQnYOES"
   },
   "outputs": [],
   "source": [
    "uusers = filtered_ratings.userId.unique()"
   ]
  },
  {
   "cell_type": "code",
   "execution_count": 33,
   "metadata": {
    "colab": {
     "base_uri": "https://localhost:8080/",
     "height": 672
    },
    "colab_type": "code",
    "id": "htCen4cSGo1P",
    "outputId": "b4004f38-b73d-4512-f914-7a2eeba1d5c0"
   },
   "outputs": [
    {
     "data": {
      "text/plain": [
       "array([ 39967, 100358, 103244, ..., 114607,  76727,  82441], dtype=int64)"
      ]
     },
     "execution_count": 33,
     "metadata": {},
     "output_type": "execute_result"
    }
   ],
   "source": [
    "uusers"
   ]
  },
  {
   "cell_type": "code",
   "execution_count": 34,
   "metadata": {
    "colab": {},
    "colab_type": "code",
    "id": "uBiSWfpvYOAv"
   },
   "outputs": [],
   "source": [
    "uusers = uusers[0:50]"
   ]
  },
  {
   "cell_type": "code",
   "execution_count": 35,
   "metadata": {
    "colab": {},
    "colab_type": "code",
    "id": "VhUFbxbsYN66"
   },
   "outputs": [],
   "source": [
    "uusers\n",
    "listofusers = uusers.tolist()"
   ]
  },
  {
   "cell_type": "code",
   "execution_count": 36,
   "metadata": {
    "colab": {},
    "colab_type": "code",
    "id": "Z0CZQbNwYN5b",
    "outputId": "eeb6ed3a-a8a1-4b0e-81d4-9ba07110d3e8"
   },
   "outputs": [],
   "source": [
    "from tkinter import *\n",
    "from tkinter.ttk import Combobox\n",
    "class mywin:\n",
    "    def __init__(self, win):\n",
    "        self.lb1 = Label(win, text='Select the user to recommend for: ')\n",
    "        #self.lb2 = Label(win, text='RECOMMENDER SYSTEM DEMO')\n",
    "        data=listofusers\n",
    "        self.cb=Combobox(window, values=data)\n",
    "        self.lb=Listbox(window, height=10,width = 70, selectmode='multiple')\n",
    "        self.cb.place(x=5, y=100)\n",
    "        self.btn1 = Button(win, text='Add')\n",
    "        self.b1=Button(win, text='Recommend', command=self.recom)\n",
    "        self.lb1.place(x=0, y=50)\n",
    "        #self.lb2.place(x=0,y=10)\n",
    "        self.b1.place(x=200, y=95)\n",
    "        self.lb.place(x=300, y=95)\n",
    "        self.T = Text(win, height=1, width=30,font='Helvetica 12 bold')\n",
    "        self.T.pack()\n",
    "        self.T.insert(END, \"HYBRID RECOMMENDER SYSTEM\")\n",
    "    def recom(self):\n",
    "        self.lb.delete(0,END)\n",
    "        uid = self.cb.get()\n",
    "        uid = int(uid)\n",
    "        #print(type(uid))\n",
    "        op = recommovie(uid)\n",
    "        finalmovies = op.index.tolist()\n",
    "        for n in finalmovies:\n",
    "            self.lb.insert(END,n)\n",
    "        #print(finalmovies)\n",
    "        \n",
    "window=Tk()\n",
    "mywin=mywin(window)\n",
    "window.title('Hybrid Recommender System')\n",
    "window.geometry(\"800x400+10+10\")\n",
    "window['background']='#003366'\n",
    "window.mainloop()"
   ]
  },
  {
   "cell_type": "code",
   "execution_count": 37,
   "metadata": {
    "colab": {},
    "colab_type": "code",
    "id": "dn6HtSeOYN3P",
    "outputId": "1a1598da-dae9-4780-b8c5-ec157204f01e"
   },
   "outputs": [
    {
     "data": {
      "text/plain": [
       "[39967,\n",
       " 100358,\n",
       " 103244,\n",
       " 15612,\n",
       " 21185,\n",
       " 33985,\n",
       " 120890,\n",
       " 33349,\n",
       " 13296,\n",
       " 26888,\n",
       " 38552,\n",
       " 106097,\n",
       " 64430,\n",
       " 63247,\n",
       " 3236,\n",
       " 124181,\n",
       " 14856,\n",
       " 102587,\n",
       " 41859,\n",
       " 8805,\n",
       " 16452,\n",
       " 56394,\n",
       " 128854,\n",
       " 108097,\n",
       " 120105,\n",
       " 93808,\n",
       " 94612,\n",
       " 104129,\n",
       " 26926,\n",
       " 92302,\n",
       " 554,\n",
       " 6966,\n",
       " 62632,\n",
       " 46470,\n",
       " 9784,\n",
       " 66562,\n",
       " 55261,\n",
       " 31715,\n",
       " 42077,\n",
       " 35109,\n",
       " 71992,\n",
       " 85034,\n",
       " 134627,\n",
       " 84700,\n",
       " 25477,\n",
       " 78781,\n",
       " 112269,\n",
       " 119517,\n",
       " 108123,\n",
       " 100778]"
      ]
     },
     "execution_count": 37,
     "metadata": {},
     "output_type": "execute_result"
    }
   ],
   "source": [
    "listofusers"
   ]
  },
  {
   "cell_type": "code",
   "execution_count": null,
   "metadata": {
    "colab": {},
    "colab_type": "code",
    "id": "1vHEl901YN0a"
   },
   "outputs": [],
   "source": []
  },
  {
   "cell_type": "code",
   "execution_count": null,
   "metadata": {
    "colab": {},
    "colab_type": "code",
    "id": "JtRGCCHXGo1b"
   },
   "outputs": [],
   "source": []
  },
  {
   "cell_type": "code",
   "execution_count": null,
   "metadata": {},
   "outputs": [],
   "source": [
    "\n"
   ]
  }
 ],
 "metadata": {
  "colab": {
   "collapsed_sections": [],
   "name": "Demo-Copy1.ipynb",
   "provenance": []
  },
  "kernelspec": {
   "display_name": "Python 3",
   "language": "python",
   "name": "python3"
  },
  "language_info": {
   "codemirror_mode": {
    "name": "ipython",
    "version": 3
   },
   "file_extension": ".py",
   "mimetype": "text/x-python",
   "name": "python",
   "nbconvert_exporter": "python",
   "pygments_lexer": "ipython3",
   "version": "3.8.3"
  }
 },
 "nbformat": 4,
 "nbformat_minor": 1
}
